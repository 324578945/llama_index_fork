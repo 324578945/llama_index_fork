{
 "cells": [
  {
   "cell_type": "markdown",
   "id": "9c48213d-6e6a-4c10-838a-2a7c710c3a05",
   "metadata": {},
   "source": [
    "# Simple Index Demo"
   ]
  },
  {
   "cell_type": "markdown",
   "id": "50d3b817-b70e-4667-be4f-d3a0fe4bd119",
   "metadata": {},
   "source": [
    "#### Load documents, build the GPTSimpleVectorIndex"
   ]
  },
  {
   "cell_type": "code",
   "execution_count": 14,
   "id": "690a6918-7c75-4f95-9ccc-d2c4a1fe00d7",
   "metadata": {},
   "outputs": [],
   "source": [
    "import logging\n",
    "import sys\n",
    "\n",
    "logging.basicConfig(stream=sys.stdout, level=logging.INFO)\n",
    "logging.getLogger().addHandler(logging.StreamHandler(stream=sys.stdout))\n",
    "\n",
    "from gpt_index import GPTSimpleVectorIndex, SimpleDirectoryReader, ServiceContext\n",
    "from gpt_index.docstore import SimpleDocumentStore\n",
    "from gpt_index.node_parser import SimpleNodeParser\n",
    "from IPython.display import Markdown, display\n",
    "from datetime import datetime, timedelta"
   ]
  },
  {
   "cell_type": "markdown",
   "id": "8ca84c38-64a2-436d-90b4-bb3781ee3c41",
   "metadata": {},
   "source": [
    "### Parse Documents into Nodes, add to Docstore\n",
    "\n",
    "In this example, there are 3 different versions of PG's essay. They are largely identical **except** \n",
    "for one specific section, which details the amount of funding they raised for Viaweb. \n",
    "\n",
    "V1: 50k, V2: 30k, V3: 10K\n",
    "\n",
    "V1: 2020-01-01, V2: 2020-02-03, V3: 2022-04-12\n",
    "\n",
    "The idea is to encourage index to fetch the most recent info (which is V3)"
   ]
  },
  {
   "cell_type": "code",
   "execution_count": 65,
   "id": "1947c07b-f68f-43c7-90f9-99a2fa40a3bc",
   "metadata": {
    "tags": []
   },
   "outputs": [],
   "source": [
    "# load documents\n",
    "now = datetime.now()\n",
    "key = \"__last_accessed__\"\n",
    "\n",
    "\n",
    "doc1 = SimpleDirectoryReader(\n",
    "    input_files=['../node_postprocessor/test_versioned_data/paul_graham_essay_v1.txt']\n",
    ").load_data()[0]\n",
    "\n",
    "\n",
    "doc2 = SimpleDirectoryReader(\n",
    "    input_files=['../node_postprocessor/test_versioned_data/paul_graham_essay_v2.txt']\n",
    ").load_data()[0]\n",
    "\n",
    "doc3 = SimpleDirectoryReader(\n",
    "    input_files=['../node_postprocessor/test_versioned_data/paul_graham_essay_v3.txt']\n",
    ").load_data()[0]\n",
    "\n",
    "\n",
    "# define service context (wrapper container around current classes)\n",
    "service_context = ServiceContext.from_defaults(chunk_size_limit=512)\n",
    "node_parser = service_context.node_parser\n",
    "\n",
    "# use node parser in service context to parse docs into nodes\n",
    "nodes1 = node_parser.get_nodes_from_documents([doc1])\n",
    "nodes2 = node_parser.get_nodes_from_documents([doc2])    \n",
    "nodes3 = node_parser.get_nodes_from_documents([doc3])\n",
    "    \n",
    "\n",
    "# fetch the modified chunk from each document, set node info\n",
    "nodes1[22].node_info[key] = (now - timedelta(hours=3)).timestamp()\n",
    "nodes2[22].node_info[key] = (now - timedelta(hours=2)).timestamp()\n",
    "nodes3[22].node_info[key] = (now - timedelta(hours=1)).timestamp()\n",
    "\n",
    "\n",
    "# add to docstore\n",
    "docstore = SimpleDocumentStore()\n",
    "nodes = [nodes1[22], nodes2[22], nodes3[22]]\n",
    "docstore.add_documents(nodes)"
   ]
  },
  {
   "cell_type": "code",
   "execution_count": null,
   "id": "ad144ee7-96da-4dd6-be00-fd6cf0c78e58",
   "metadata": {
    "scrolled": true
   },
   "outputs": [],
   "source": [
    "index = GPTSimpleVectorIndex(nodes, docstore=docstore)"
   ]
  },
  {
   "cell_type": "code",
   "execution_count": 67,
   "id": "2bbccf1d-ac39-427c-b3a3-f8e9d1d12348",
   "metadata": {},
   "outputs": [],
   "source": [
    "# save index to disk\n",
    "index.save_to_disk('index_simple.json')"
   ]
  },
  {
   "cell_type": "code",
   "execution_count": 68,
   "id": "197ca78e-1310-474d-91e3-877c3636b901",
   "metadata": {},
   "outputs": [],
   "source": [
    "# load index from disk\n",
    "index = GPTSimpleVectorIndex.load_from_disk('index_simple.json')"
   ]
  },
  {
   "cell_type": "markdown",
   "id": "b6caf93b-6345-4c65-a346-a95b0f1746c4",
   "metadata": {},
   "source": [
    "#### Query Index"
   ]
  },
  {
   "cell_type": "code",
   "execution_count": 69,
   "id": "d8f377c4-371c-4b6c-8722-1c2228586021",
   "metadata": {
    "tags": []
   },
   "outputs": [],
   "source": [
    "# set time decay\n",
    "from gpt_index.vector_stores.types import VectorStoreQueryConfig\n",
    "\n",
    "# disable time access refresh for now (enabled by default)\n",
    "query_config = VectorStoreQueryConfig(\n",
    "    use_time_decay=True, time_decay_rate=0.5, time_access_refresh=False\n",
    ")"
   ]
  },
  {
   "cell_type": "code",
   "execution_count": 70,
   "id": "c1c5ab85-25e4-4460-8b6a-3c119d92ba48",
   "metadata": {},
   "outputs": [
    {
     "name": "stdout",
     "output_type": "stream",
     "text": [
      "INFO:gpt_index.token_counter.token_counter:> [query] Total LLM token usage: 1690 tokens\n",
      "> [query] Total LLM token usage: 1690 tokens\n",
      "> [query] Total LLM token usage: 1690 tokens\n",
      "INFO:gpt_index.token_counter.token_counter:> [query] Total embedding token usage: 22 tokens\n",
      "> [query] Total embedding token usage: 22 tokens\n",
      "> [query] Total embedding token usage: 22 tokens\n"
     ]
    }
   ],
   "source": [
    "response = index.query(\n",
    "    \"How much did the author raise in seed funding from Idelle's husband (Julian) for Viaweb?\", \n",
    "    similarity_top_k=3,\n",
    "    vector_store_query_config=query_config\n",
    ")"
   ]
  },
  {
   "cell_type": "code",
   "execution_count": 71,
   "id": "ad61b781-4be4-4b8c-9ddd-4069cb926877",
   "metadata": {
    "tags": []
   },
   "outputs": [
    {
     "data": {
      "text/plain": [
       "[1681975247.558827, 1681971647.558827, 1681968047.558827]"
      ]
     },
     "execution_count": 71,
     "metadata": {},
     "output_type": "execute_result"
    }
   ],
   "source": [
    "[n.node_info[key] for n in response.source_nodes]"
   ]
  },
  {
   "cell_type": "code",
   "execution_count": 73,
   "id": "4c2929fb",
   "metadata": {
    "tags": []
   },
   "outputs": [
    {
     "name": "stdout",
     "output_type": "stream",
     "text": [
      "Node(text='Engineering that seemed to be at least as big as the group that actually wrote the software. Now you could just update the software right on the server.\\n\\nWe started a new company we called Viaweb, after the fact that our software worked via the web, and we got $50,000 in seed funding from Idelle\\'s husband Julian. In return for that and doing the initial legal work and giving us business advice, we gave him 10% of the company. Ten years later this deal became the model for Y Combinator\\'s. We knew founders needed something like this, because we\\'d needed it ourselves.\\n\\nAt this stage I had a negative net worth, because the thousand dollars or so I had in the bank was more than counterbalanced by what I owed the government in taxes. (Had I diligently set aside the proper proportion of the money I\\'d made consulting for Interleaf? No, I had not.) So although Robert had his graduate student stipend, I needed that seed funding to live on.\\n\\nWe originally hoped to launch in September, but we got more ambitious about the software as we worked on it. Eventually we managed to build a WYSIWYG site builder, in the sense that as you were creating pages, they looked exactly like the static ones that would be generated later, except that instead of leading to static pages, the links all referred to closures stored in a hash table on the server.\\n\\nIt helped to have studied art, because the main goal of an online store builder is to make users look legit, and the key to looking legit is high production values. If you get page layouts and fonts and colors right, you can make a guy running a store out of his bedroom look more legit than a big company.\\n\\n(If you\\'re curious why my site looks so old-fashioned, it\\'s because it\\'s still made with this software. It may look clunky today, but in 1996 it was the last word in slick.)\\n\\nIn September, Robert rebelled. \"We\\'ve been working on this for a month,\" he said, \"and it\\'s still not done.\" This is funny in retrospect, because he would still be working on it almost 3 years later. But I decided it might be prudent to', doc_id='1e224e26-4909-4521-b3b6-cb1ef1f47a74', embedding=None, doc_hash='b11d013ec2af3de0379f92305d352ad6057cf7273fb4879685eb2e4e3adbfce9', extra_info=None, node_info={'start': 45309, 'end': 47377, '__last_accessed__': 1681718968.489189}, relationships={<DocumentRelationship.SOURCE: '1'>: 'ea6de381-bcb4-4575-8f3f-179a80eba4f1', <DocumentRelationship.PREVIOUS: '2'>: '978628b8-55d7-4a9a-a169-391dc7cf411a', <DocumentRelationship.NEXT: '3'>: 'edab60f8-78d8-451e-83c3-de653be93de0'})\n"
     ]
    }
   ],
   "source": [
    "print(response.source_nodes[0].node.get_text())"
   ]
  },
  {
   "cell_type": "code",
   "execution_count": null,
   "id": "10957d33-fd6b-4db1-99bb-e7320d3fb152",
   "metadata": {},
   "outputs": [],
   "source": []
  }
 ],
 "metadata": {
  "kernelspec": {
   "display_name": "llama_index",
   "language": "python",
   "name": "llama_index"
  },
  "language_info": {
   "codemirror_mode": {
    "name": "ipython",
    "version": 3
   },
   "file_extension": ".py",
   "mimetype": "text/x-python",
   "name": "python",
   "nbconvert_exporter": "python",
   "pygments_lexer": "ipython3",
   "version": "3.10.10"
  }
 },
 "nbformat": 4,
 "nbformat_minor": 5
}
