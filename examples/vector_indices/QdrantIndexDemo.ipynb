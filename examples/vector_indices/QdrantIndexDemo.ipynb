{
 "cells": [
  {
   "cell_type": "markdown",
   "id": "307804a3-c02b-4a57-ac0d-172c30ddc851",
   "metadata": {},
   "source": [
    "# Qdrant Index Demo"
   ]
  },
  {
   "cell_type": "markdown",
   "id": "f7010b1d-d1bb-4f08-9309-a328bb4ea396",
   "metadata": {},
   "source": [
    "#### Creating a Qdrant client + Vector Store"
   ]
  },
  {
   "cell_type": "code",
   "execution_count": null,
   "id": "47264e32",
   "metadata": {
    "ExecuteTime": {
     "end_time": "2023-02-10T12:20:23.988789Z",
     "start_time": "2023-02-10T12:20:23.967877Z"
    }
   },
   "outputs": [],
   "source": [
    "import logging\n",
    "import sys\n",
    "from gpt_index import GPTVectorStoreIndex, SimpleDirectoryReader\n",
    "from gpt_index.vector_stores import QdrantVectorStore\n",
    "from IPython.display import Markdown, display\n",
    "\n",
    "logging.basicConfig(stream=sys.stdout, level=logging.INFO)\n",
    "logging.getLogger().addHandler(logging.StreamHandler(stream=sys.stdout))"
   ]
  },
  {
   "cell_type": "code",
   "execution_count": null,
   "id": "0c9f4d21-145a-401e-95ff-ccb259e8ef84",
   "metadata": {
    "ExecuteTime": {
     "end_time": "2023-02-10T12:20:24.908956Z",
     "start_time": "2023-02-10T12:20:24.537064Z"
    },
    "pycharm": {
     "is_executing": true
    }
   },
   "outputs": [],
   "source": [
    "import qdrant_client"
   ]
  },
  {
   "cell_type": "code",
   "execution_count": null,
   "id": "b1757e8a",
   "metadata": {
    "ExecuteTime": {
     "end_time": "2023-02-10T12:20:24.986059Z",
     "start_time": "2023-02-10T12:20:24.910787Z"
    },
    "pycharm": {
     "is_executing": true
    }
   },
   "outputs": [],
   "source": [
    "client = qdrant_client.QdrantClient(\n",
    "    host=\"<qdrant-host>\",\n",
    "    api_key=\"<qdrant-api-key>\", # For Qdrant Cloud, None for local instance\n",
    "    https=True, # True if using Qdrant Cloud\n",
    ")"
   ]
  },
  {
   "cell_type": "code",
   "execution_count": null,
   "id": "27b56fac-73e9-4d2a-9e8b-96f011885386",
   "metadata": {},
   "outputs": [],
   "source": [
    "vector_store = QdrantVectorStore(\"paul_graham\", client=client)"
   ]
  },
  {
   "cell_type": "markdown",
   "id": "8ee4473a-094f-4d0a-a825-e1213db07240",
   "metadata": {},
   "source": [
    "#### Load documents, build the GPTVectorStoreIndex"
   ]
  },
  {
   "cell_type": "code",
   "execution_count": null,
   "id": "68cbd239-880e-41a3-98d8-dbb3fab55431",
   "metadata": {
    "ExecuteTime": {
     "end_time": "2023-02-10T12:20:30.175678Z",
     "start_time": "2023-02-10T12:20:30.172456Z"
    },
    "pycharm": {
     "is_executing": true
    }
   },
   "outputs": [],
   "source": [
    "# load documents\n",
    "documents = SimpleDirectoryReader('../paul_graham_essay/data').load_data()"
   ]
  },
  {
   "cell_type": "code",
   "execution_count": null,
   "id": "ba1558b3",
   "metadata": {
    "ExecuteTime": {
     "end_time": "2023-02-10T12:20:33.735897Z",
     "start_time": "2023-02-10T12:20:30.404245Z"
    },
    "pycharm": {
     "is_executing": true
    }
   },
   "outputs": [],
   "source": [
    "index = GPTVectorStoreIndex(documents, vector_store=vector_store)"
   ]
  },
  {
   "cell_type": "code",
   "execution_count": null,
   "id": "c36cadc1",
   "metadata": {
    "ExecuteTime": {
     "end_time": "2023-02-10T12:20:33.742793Z",
     "start_time": "2023-02-10T12:20:33.738289Z"
    }
   },
   "outputs": [],
   "source": [
    "# save index to disk\n",
    "index.save_to_disk(\"index_qdrant.json\")"
   ]
  },
  {
   "cell_type": "code",
   "execution_count": null,
   "id": "70b372a7",
   "metadata": {
    "ExecuteTime": {
     "end_time": "2023-02-10T12:20:33.821131Z",
     "start_time": "2023-02-10T12:20:33.745017Z"
    }
   },
   "outputs": [],
   "source": [
    "# load index from disk\n",
    "index = GPTVectorStoreIndex.load_from_disk(\"index_qdrant.json\", client=client)"
   ]
  },
  {
   "cell_type": "markdown",
   "id": "04304299-fc3e-40a0-8600-f50c3292767e",
   "metadata": {},
   "source": [
    "#### Query Index"
   ]
  },
  {
   "cell_type": "code",
   "execution_count": null,
   "id": "35369eda",
   "metadata": {
    "ExecuteTime": {
     "end_time": "2023-02-10T12:20:51.328762Z",
     "start_time": "2023-02-10T12:20:33.822688Z"
    }
   },
   "outputs": [],
   "source": [
    "# set Logging to DEBUG for more detailed outputs\n",
    "response = index.query(\"What did the author do growing up?\")"
   ]
  },
  {
   "cell_type": "code",
   "execution_count": null,
   "id": "bedbb693-725f-478f-be26-fa7180ea38b2",
   "metadata": {
    "ExecuteTime": {
     "end_time": "2023-02-10T12:20:51.337062Z",
     "start_time": "2023-02-10T12:20:51.330857Z"
    }
   },
   "outputs": [],
   "source": [
    "display(Markdown(f\"<b>{response}</b>\"))"
   ]
  },
  {
   "cell_type": "code",
   "execution_count": null,
   "id": "99212d33",
   "metadata": {
    "ExecuteTime": {
     "end_time": "2023-02-10T12:21:10.337294Z",
     "start_time": "2023-02-10T12:20:51.338718Z"
    }
   },
   "outputs": [],
   "source": [
    "# set Logging to DEBUG for more detailed outputs\n",
    "response = index.query(\"What did the author do after his time at Y Combinator?\")"
   ]
  },
  {
   "cell_type": "code",
   "execution_count": null,
   "id": "1a720ad6",
   "metadata": {
    "ExecuteTime": {
     "end_time": "2023-02-10T12:21:10.355872Z",
     "start_time": "2023-02-10T12:21:10.343486Z"
    }
   },
   "outputs": [],
   "source": [
    "display(Markdown(f\"<b>{response}</b>\"))"
   ]
  },
  {
   "cell_type": "code",
   "execution_count": null,
   "id": "b0b6d770",
   "metadata": {},
   "outputs": [],
   "source": []
  }
 ],
 "metadata": {
  "kernelspec": {
   "display_name": "gpt_retrieve_venv",
   "language": "python",
   "name": "gpt_retrieve_venv"
  },
  "language_info": {
   "codemirror_mode": {
    "name": "ipython",
    "version": 3
   },
   "file_extension": ".py",
   "mimetype": "text/x-python",
   "name": "python",
   "nbconvert_exporter": "python",
   "pygments_lexer": "ipython3",
   "version": "3.9.16"
  }
 },
 "nbformat": 4,
 "nbformat_minor": 5
}
