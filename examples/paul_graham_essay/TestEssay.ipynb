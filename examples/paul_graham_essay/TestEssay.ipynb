{
 "cells": [
  {
   "cell_type": "code",
   "execution_count": null,
   "id": "f1a9eb90-335c-4214-8bb6-fd1edbe3ccbd",
   "metadata": {},
   "outputs": [],
   "source": [
    "# My OpenAI Key\n",
    "import os\n",
    "os.environ['OPENAI_API_KEY'] = \"INSERT OPENAI KEY\""
   ]
  },
  {
   "cell_type": "markdown",
   "id": "be3f7baa-1c0a-430b-981b-83ddca9e71f2",
   "metadata": {
    "tags": []
   },
   "source": [
    "## Using GPT Tree Index"
   ]
  },
  {
   "cell_type": "markdown",
   "id": "0881f151-279e-4910-95c7-f49d3d6a4c69",
   "metadata": {},
   "source": [
    "#### [Demo] Default leaf traversal "
   ]
  },
  {
   "cell_type": "code",
   "execution_count": 1,
   "id": "8d0b2364-4806-4656-81e7-3f6e4b910b5b",
   "metadata": {},
   "outputs": [
    {
     "name": "stderr",
     "output_type": "stream",
     "text": [
      "None of PyTorch, TensorFlow >= 2.0, or Flax have been found. Models won't be available and only tokenizers, configuration and file/data utilities can be used.\n",
      "[nltk_data] Downloading package stopwords to\n",
      "[nltk_data]     /Users/jerryliu/nltk_data...\n",
      "[nltk_data]   Package stopwords is already up-to-date!\n"
     ]
    }
   ],
   "source": [
    "from gpt_index import GPTTreeIndex, SimpleDirectoryReader\n",
    "from IPython.display import Markdown, display"
   ]
  },
  {
   "cell_type": "code",
   "execution_count": 2,
   "id": "1298bbb4-c99e-431e-93ef-eb32c0a2fc2a",
   "metadata": {
    "tags": []
   },
   "outputs": [
    {
     "name": "stdout",
     "output_type": "stream",
     "text": [
      "> Building index from nodes: 5 chunks\n",
      "0/56\n",
      "> 0/56, summary: \n",
      "In February 2021, the author worked on writing and programming before college. He used an IBM 1401 to write programs in an early version of Fortran, but he couldn't figure out what to do with it. When microcomputers became available, he wrote simple games, a program to predict how high his model rockets would fly, and a word processor. In college, he studied philosophy but found it boring and switched to AI. He reverse-engineered SHRDLU for his undergraduate thesis and wrote a book about Lisp hacking. He realized that AI, as practiced at the time, was a hoax and decided to focus on Lisp. He visited Rich Draves at CMU and realized he could make art that would last. He started taking art classes at Harvard and applied to RISD and the Accademia di Belli Arti in Florence. RISD accepted him and he left for Providence, but he got a letter from the Accademia inviting him to take the entrance exam in Florence. He had enough money saved from consulting work to last a year and he had to learn Italian.\n",
      "10/56\n",
      "> 10/56, summary: In 1992, the narrator attended the Accademia di Belle Arti in Florence, Italy, where he learned Italian and painting. He then returned to the US and got a job at Interleaf, where he learned about the low end eating the high end. He then moved back to Providence to attend RISD, where he learned a lot in the color class but otherwise taught himself to paint. He then moved to New York City and became a New York artist. He wrote a book on Lisp and started a company to put art galleries online, but it was a difficult sale. He then realized that online stores were similar to the sites he had been generating for galleries and started writing software to build online stores.\n",
      "20/56\n",
      "> 20/56, summary: In 1996, Robert Morris and Paul Graham wrote a new site generator for stores in Lisp. They ran the software on the server and let users control it by clicking on links, which was a novel concept at the time. They started a company called Viaweb and got $10,000 in seed funding. They built a WYSIWYG site builder and had about 70 stores at the end of 1996 and 500 at the end of 1997. They charged $100 a month for a small store and $300 a month for a big one. In 1998, Yahoo bought them and Paul Graham left to paint. He tried to paint but didn't have the energy or ambition, so he went back to New York. In 2000, he had an idea to build a web app for making web apps and got excited about it.\n",
      "30/56\n",
      "> 30/56, summary: Paul Graham had a vision of a new type of software that would be embodied as a company, so he decided to move to Cambridge and start it. He recruited Dan Giffin and two undergrads to work on the project, but eventually decided to build a subset of the project as an open source project. He called this new dialect of Lisp Arc, and it was during a talk he gave about it that he realized the potential of the internet to publish essays. He wrote many essays, and eventually met Jessica Livingston, who was in charge of marketing at a Boston investment bank. After she was fired, they decided to start their own investment firm, Y Combinator, which would make small investments and help founders with things like getting set up as a company. They ran the Summer Founders Program, which was a summer program for undergrads to start startups, and the first batch included reddit, Justin Kan and Emmett Shear, Aaron Swartz, and Sam Altman.\n",
      "40/56\n",
      "> 40/56, summary: \n",
      "Paul Graham, co-founder of Y Combinator, had to make a decision about his future. He had been working on YC for several years and was feeling the strain of the job. He was given advice by Robert Morris to make sure YC wasn't the last cool thing he did. After his mother passed away in 2014, he decided to hand YC over to Sam Altman and retire. He then decided to focus on painting, but eventually ran out of steam and started writing essays again. In 2015, he began working on a new version of Lisp, called Bel, which took four years to complete. During this time, he wrote no essays and moved to England with his family. In 2019, Bel was finished and he resumed writing essays. He has continued to write essays and work on Lisp since then.\n",
      "50/56\n",
      "> 50/56, summary: This essay is about the author's experience of choosing what to work on in the past and how it can be interesting and encouraging to others with similarly messy lives. It covers topics such as the evolution of computers, Italian language, the author's experience of living in Florence, still life painting, the exponential growth of commodity processors, the signature style seekers at RISD, rent-controlled apartments, launching software, the response to the author's essay about Lisp, publishing online, Y Combinator, the advantages of being independent-minded, the original name of Y Combinator, the color orange, the YC logo, the term \"deal flow\", air conditioners, the bizarre edge case of writing essays and running a forum, leaving YC, and the concept of invented vs discovered. The essay was read by Trevor Blackwell, John Collison, Patrick Collison, Daniel Gackle, Ralph Hazell, Jessica Livingston, Robert Morris, and Harj Taggar.\n"
     ]
    }
   ],
   "source": [
    "documents = SimpleDirectoryReader('data').load_data()\n",
    "index = GPTTreeIndex(documents)"
   ]
  },
  {
   "cell_type": "code",
   "execution_count": 3,
   "id": "0b4fe9b6-5762-4e86-b51e-aac45d3ecdb1",
   "metadata": {},
   "outputs": [],
   "source": [
    "index.save_to_disk('index.json')"
   ]
  },
  {
   "cell_type": "code",
   "execution_count": 2,
   "id": "5eec265d-211b-4f26-b05b-5b4e7072bc6e",
   "metadata": {},
   "outputs": [],
   "source": [
    "# try loading\n",
    "new_index = GPTTreeIndex.load_from_disk('index.json')"
   ]
  },
  {
   "cell_type": "code",
   "execution_count": null,
   "id": "bd14686d-1c53-4637-9340-3745f2121ae2",
   "metadata": {},
   "outputs": [],
   "source": [
    "# try verbose=True for more detailed outputs\n",
    "response = new_index.query(\"What did the author do growing up?\")"
   ]
  },
  {
   "cell_type": "code",
   "execution_count": 6,
   "id": "b4c87d14-d2d8-4d80-89f6-1e5972973528",
   "metadata": {},
   "outputs": [
    {
     "data": {
      "text/markdown": [
       "<b>The author grew up writing short stories and programming on an IBM 1401 computer.</b>"
      ],
      "text/plain": [
       "<IPython.core.display.Markdown object>"
      ]
     },
     "metadata": {},
     "output_type": "display_data"
    }
   ],
   "source": [
    "display(Markdown(f\"<b>{response}</b>\"))"
   ]
  },
  {
   "cell_type": "code",
   "execution_count": null,
   "id": "68c9ebfe-b1b6-4f4e-9278-174346de8c90",
   "metadata": {
    "tags": []
   },
   "outputs": [],
   "source": [
    "# try verbose=True for more detailed outputs\n",
    "response = new_index.query(\"What did the author do after his time at Y Combinator?\", verbose=True)"
   ]
  },
  {
   "cell_type": "code",
   "execution_count": 10,
   "id": "a5ab5943-7c84-4c2b-ac99-ec4b5fc67e64",
   "metadata": {},
   "outputs": [
    {
     "data": {
      "text/markdown": [
       "<b>ANSWER: 18. This summary explains that the author left Y Combinator and describes the difficulty of the transition, which is relevant to the question of what the author did after his time at Y Combinator.</b>"
      ],
      "text/plain": [
       "<IPython.core.display.Markdown object>"
      ]
     },
     "metadata": {},
     "output_type": "display_data"
    }
   ],
   "source": [
    "display(Markdown(f\"<b>{response}</b>\"))"
   ]
  },
  {
   "cell_type": "markdown",
   "id": "85c62ec3-c3cf-467e-ab0f-88ffb9f990be",
   "metadata": {},
   "source": [
    "#### [Demo] Leaf traversal with child_branch_factor=2"
   ]
  },
  {
   "cell_type": "code",
   "execution_count": null,
   "id": "46714db4-9592-4c55-9ca7-916758f2ce68",
   "metadata": {
    "tags": []
   },
   "outputs": [],
   "source": [
    "# try using branching factor 2\n",
    "response = new_index.query(\"What did the author do growing up?\", child_branch_factor=2)"
   ]
  },
  {
   "cell_type": "code",
   "execution_count": 13,
   "id": "1ea7f891-b7e1-497a-a965-14201b220404",
   "metadata": {},
   "outputs": [
    {
     "data": {
      "text/markdown": [
       "<b>The author grew up programming on an IBM 1401 computer, experimenting with model rockets, using a word processor to write books, studying philosophy in high school, attending the Accademia di Belle Arti in Florence, Italy, learning Italian and painting, working at Interleaf, and attending RISD to learn about color and painting. They also wrote a book on Lisp and started a company to put art galleries online, and eventually realized that online stores were similar to the sites they had been generating for galleries and started writing software to build online stores.</b>"
      ],
      "text/plain": [
       "<IPython.core.display.Markdown object>"
      ]
     },
     "metadata": {},
     "output_type": "display_data"
    }
   ],
   "source": [
    "display(Markdown(f\"<b>{response}</b>\"))"
   ]
  },
  {
   "cell_type": "markdown",
   "id": "f9773497-9aa6-4a16-884a-cd882e63d012",
   "metadata": {},
   "source": [
    "#### [Demo] Build Tree Index with query_str, directly retrieve answer from root node"
   ]
  },
  {
   "cell_type": "code",
   "execution_count": 3,
   "id": "8ab6d3ad-95e1-477a-a0dc-2ce4763ff2c4",
   "metadata": {},
   "outputs": [],
   "source": [
    "from gpt_index import Prompt"
   ]
  },
  {
   "cell_type": "code",
   "execution_count": null,
   "id": "5a91a445-6ab2-457c-850e-79c5386129db",
   "metadata": {},
   "outputs": [],
   "source": [
    "documents = SimpleDirectoryReader('data').load_data()\n",
    "\n",
    "query_str = \"What did the author do growing up?\"\n",
    "DEFAULT_TEXT_QA_PROMPT_TMPL = (\n",
    "    \"Context information is below. \\n\"\n",
    "    \"---------------------\\n\"\n",
    "    \"{text}\"\n",
    "    \"\\n---------------------\\n\"\n",
    "    \"Given the context information and not prior knowledge, \"\n",
    "    \"answer the question: {query_str}\\n\"\n",
    ")\n",
    "DEFAULT_TEXT_QA_PROMPT = Prompt(\n",
    "    input_variables=[\"query_str\", \"text\"],\n",
    "    template=DEFAULT_TEXT_QA_PROMPT_TMPL\n",
    ")\n",
    "index_with_query = GPTTreeIndex(documents, summary_template=DEFAULT_TEXT_QA_PROMPT, query_str=query_str)"
   ]
  },
  {
   "cell_type": "code",
   "execution_count": 6,
   "id": "985dad0c-1ede-4576-a4c9-c077b815edd8",
   "metadata": {},
   "outputs": [],
   "source": [
    "index_with_query.save_to_disk(\"index_with_query.json\")"
   ]
  },
  {
   "cell_type": "code",
   "execution_count": 7,
   "id": "de04fce5-88f9-41b7-87d9-dcde8f84a872",
   "metadata": {},
   "outputs": [],
   "source": [
    "index_with_query = GPTTreeIndex.load_from_disk(\"index_with_query.json\")"
   ]
  },
  {
   "cell_type": "code",
   "execution_count": null,
   "id": "9223ffa8-d49d-4de3-821a-701b2a0352d4",
   "metadata": {},
   "outputs": [],
   "source": [
    "# directly retrieve response from root nodes instead of traversing tree\n",
    "response = index_with_query.query(query_str, mode=\"retrieve\")"
   ]
  },
  {
   "cell_type": "code",
   "execution_count": 10,
   "id": "fdca6970-2f3f-4741-ae98-555db8d3d9a0",
   "metadata": {},
   "outputs": [
    {
     "data": {
      "text/markdown": [
       "<b>\n",
       "The author was homeschooled and then attended a prestigious art school. The author grew up writing essays and thinking about other things he could work on.</b>"
      ],
      "text/plain": [
       "<IPython.core.display.Markdown object>"
      ]
     },
     "metadata": {},
     "output_type": "display_data"
    }
   ],
   "source": [
    "display(Markdown(f\"<b>{response}</b>\"))"
   ]
  },
  {
   "cell_type": "markdown",
   "id": "a6457769-dfaf-4241-ab32-dcf901dde902",
   "metadata": {},
   "source": [
    "## Using GPT Keyword Table Index"
   ]
  },
  {
   "cell_type": "code",
   "execution_count": 6,
   "id": "78d59ef6-70b0-47bb-818d-7237a3b7de75",
   "metadata": {},
   "outputs": [],
   "source": [
    "from gpt_index import GPTKeywordTableIndex, SimpleDirectoryReader\n",
    "from IPython.display import Markdown, display"
   ]
  },
  {
   "cell_type": "code",
   "execution_count": 5,
   "id": "5a3f1c67-6d73-4f37-afcf-9e637002fcff",
   "metadata": {},
   "outputs": [
    {
     "name": "stdout",
     "output_type": "stream",
     "text": [
      "> Processing chunk 0 of 6, id 6633467239764706071: \t\t\n",
      "\n",
      "What I Worked On\n",
      "\n",
      "February 2021\n",
      "\n",
      "Before col...\n",
      "> Keywords: {'artificial', 'word', 'philosophy', 'trs', 'winograd', 'intelligence', 'programming', '80', 'lisp', 'work', 'systems', 'di', 'systems work', 'accademia', 'carnegie', 'terry winograd', 'natural language', 'carnegie institute', 'paintings', 'italian', 'structures', 'cmu', 'accademia di belli arti', 'rockets', 'word processor', 'ibm', 'model', 'natural', 'language', 'belli', 'fortran', 'cezanne', 'institute', 'trs-80', 'data structures', 'reverse', 'arti', 'artificial intelligence', 'florence', 'data', 'model rockets', 'shrdlu', 'ai', 'engineered', '1401', 'processor', 'ibm 1401', 'art', 'reverse-engineered', 'heinlein', 'terry', 'microcomputers'}\n",
      "> Processing chunk 1 of 6, id 4100179696019853008: of excluding them, because there were so many s...\n",
      "> Keywords: {'world', 'online', 'online stores', 'lisp', 'cart', 'accademia', 'idelle weber', 'weber', 'user', 'yorkville', 'internet', 'shopping', 'roman', 'harvard', 'windows', 'roman gaul', 'shopping cart.', 'wide', 'gaul', 'world wide web', 'graphical', 'stores', 'idelle', 'y combinator', 'florence', 'web', 'unix', 'interleaf', 'combinator', 'photorealists', 'interfaces', 'graphical user interfaces', 'cambridge', 'art', 'risd', 'viaweb', 'microcomputers'}\n",
      "> Processing chunk 2 of 6, id 2240695989319726955: an alarming prospect, because neither of us kne...\n",
      "> Keywords: {'credit card payments.', 'wysiwyg', 'app', 'web app', 'store', 'york', 'card', 'growth rate', 'retail', 'hash table', 'combinator', 'hash', 'software', 'calls', 'new york', 'rate', 'table', 'builder', 'ecommerce', 'lisp', 'options', 'growth', 'phone calls', 'browser', 'painting', 'store builder', 'credit', 'images', 'y combinator', 'unix', 'web', 'interleaf', 'api', 'payments', 'cambridge', 'phone', 'startups', 'new'}\n",
      "> Processing chunk 3 of 6, id 3531546443662073264: browser, and then host the resulting applicatio...\n",
      "> Keywords: {'mit', 'summer', 'sachs', 'sam', 'essays', 'investment', 'lisp', 'twitch', 'swartz', 'services', 'altman', 'y combinator', 'aaron swartz', 'goldman', 'julian', 'aaron', 'combinator', 'founders', 'rss', 'microsoft', 'robert', 'publishing', 'startups', 'sam altman', 'goldman sachs'}\n",
      "> Processing chunk 4 of 6, id 6633496010977765402: person, and from those we picked 8 to fund. The...\n",
      "> Keywords: {'clot', 'russell', 'lisp', 'swartz', 'colon', 'day', 'bel', 'demo day', 'kevin hale', 'turing', 'aaron swartz', 'zero', 'nursing', 'aaron', 'emmett shear', 'mccarthy', 'ibm', 'robert', 'shear', 'arc', 'demo', 'john mccarthy', 'turing machine', 'zero sum game', 'painting', 'nursing home', 'game', 'hale', 'ibm 704', 'mit', 'emmett', 'goldman sachs', 'sachs', 'hacker news', 'hacker', 'steve russell', 'essays', 'blood clot', 'justin kan', 'sam', 'morris', 'cancer', 'startups', 'justin', 'robert morris', 'britain.', 'altman', '704', 'goldman', 'home', 'news', 'julian', 'machine', 'kan', 'john', 'kevin', 'colon cancer', 'steve', 'sum', 'blood', 'viaweb', 'sam altman'}\n",
      "> Processing chunk 5 of 6, id 7674903471241618344: it was like living in another country, and sinc...\n",
      "> Keywords: {'discovery', 'combinator', 'essays', 'lisp', 'software', 'life', 'messy', 'custom', 'citizen', 'invention', 'aliens.', 'bel', 'vc', 'y combinator', 'florence', 'painting'}\n"
     ]
    }
   ],
   "source": [
    "# build keyword index\n",
    "documents = SimpleDirectoryReader('data').load_data()\n",
    "index = GPTKeywordTableIndex(documents)"
   ]
  },
  {
   "cell_type": "code",
   "execution_count": 6,
   "id": "7ec97988-0190-4df7-b19a-e3130122298f",
   "metadata": {},
   "outputs": [],
   "source": [
    "# save index\n",
    "index.save_to_disk('index_table.json')"
   ]
  },
  {
   "cell_type": "code",
   "execution_count": 7,
   "id": "d94d0fe0-43c1-41cd-901b-0d748d30f1c7",
   "metadata": {},
   "outputs": [],
   "source": [
    "# reload index\n",
    "index = GPTKeywordTableIndex.load_from_disk('index_table.json')"
   ]
  },
  {
   "cell_type": "code",
   "execution_count": 8,
   "id": "69d4f686-6825-49cf-a113-d2fdd484de77",
   "metadata": {},
   "outputs": [
    {
     "name": "stdout",
     "output_type": "stream",
     "text": [
      "> Starting query: What did the author do after his time at Y Combinator?\n",
      "Extracted keywords: ['combinator', 'y combinator']\n",
      "> Querying with idx: 4100179696019853008: of excluding them, because there were so many s...\n",
      "> Querying with idx: 2240695989319726955: an alarming prospect, because neither of us kne...\n",
      "> Querying with idx: 7674903471241618344: it was like living in another country, and sinc...\n",
      "> Querying with idx: 3531546443662073264: browser, and then host the resulting applicatio...\n"
     ]
    }
   ],
   "source": [
    "response = index.query(\"What did the author do after his time at Y Combinator?\")"
   ]
  },
  {
   "cell_type": "code",
   "execution_count": 9,
   "id": "a483514d-4ab5-489d-8b99-7250df491ce3",
   "metadata": {},
   "outputs": [
    {
     "data": {
      "text/markdown": [
       "<b>\n",
       "\n",
       "After his time at Y Combinator, the author returned to painting. He moved to New York City and rented a rent-controlled apartment in Yorkville. He wrote a book on Lisp and did freelance Lisp hacking work to support himself. He also became the de facto studio assistant for Idelle Weber, an early photorealist painter. He experimented with a new kind of still life, blowing up the images on canvas and using that as the underpainting for a second still life, painted from the same objects. He wrote lots of essays about all kinds of different topics. He co-founded Y Combinator and wrote a book called Bel. He also wrote essays about topics he had stacked up. He wrote an essay for himself to answer how he chose what to work on in the past. He wrote a more detailed version for others to read. He then cooked up something he called the Summer Founders Program, and posted an announcement on his site, inviting undergrads to apply. He invited about 20 of the 225 groups to interview in person, and from those he picked 8 to fund. After his options vested, he left Yahoo in the summer of 1999 and started painting again. He looked for an apartment to buy and eventually had the idea to build a</b>"
      ],
      "text/plain": [
       "<IPython.core.display.Markdown object>"
      ]
     },
     "metadata": {},
     "output_type": "display_data"
    }
   ],
   "source": [
    "display(Markdown(f\"<b>{response}</b>\"))"
   ]
  },
  {
   "cell_type": "markdown",
   "id": "aae1bea9-b534-430a-a52b-1f4414957ac9",
   "metadata": {},
   "source": [
    "## Using GPT List Index"
   ]
  },
  {
   "cell_type": "code",
   "execution_count": 1,
   "id": "1aa8c8c1-7fce-4737-9141-d14fd37a779c",
   "metadata": {},
   "outputs": [
    {
     "name": "stderr",
     "output_type": "stream",
     "text": [
      "None of PyTorch, TensorFlow >= 2.0, or Flax have been found. Models won't be available and only tokenizers, configuration and file/data utilities can be used.\n",
      "[nltk_data] Downloading package stopwords to\n",
      "[nltk_data]     /Users/jerryliu/nltk_data...\n",
      "[nltk_data]   Package stopwords is already up-to-date!\n"
     ]
    }
   ],
   "source": [
    "from gpt_index import GPTListIndex, SimpleDirectoryReader\n",
    "from IPython.display import Markdown, display"
   ]
  },
  {
   "cell_type": "code",
   "execution_count": 11,
   "id": "191caa65-a77f-4d8c-b095-4aed61300ea5",
   "metadata": {},
   "outputs": [
    {
     "name": "stdout",
     "output_type": "stream",
     "text": [
      "> Adding chunk: \t\t\n",
      "\n",
      "What I Worked On\n",
      "\n",
      "February 2021\n",
      "\n",
      "Before col...\n",
      "> Adding chunk: Florence that the Italian students would otherw...\n",
      "> Adding chunk: Robert wrote a shopping cart, and I wrote a new...\n",
      "> Adding chunk: this idea that I couldn't think about anything ...\n",
      "> Adding chunk: luck that the first batch was so good. You had ...\n",
      "> Adding chunk: I wrote a bunch about topics I'd had stacked up...\n"
     ]
    }
   ],
   "source": [
    "# build linked list index\n",
    "documents = SimpleDirectoryReader('data').load_data()\n",
    "index = GPTListIndex(documents)\n",
    "# save index\n",
    "index.save_to_disk('index_list.json')"
   ]
  },
  {
   "cell_type": "code",
   "execution_count": 2,
   "id": "af2d049d-518d-4ec4-b84f-1fab8aece04f",
   "metadata": {},
   "outputs": [],
   "source": [
    "# load index from disk\n",
    "index = GPTListIndex.load_from_disk('index_list.json')"
   ]
  },
  {
   "cell_type": "code",
   "execution_count": null,
   "id": "1b3d4bd8-7540-4c6f-8616-ab2d8c6ae2b2",
   "metadata": {},
   "outputs": [],
   "source": [
    "response = index.query(\"What did the author do after his time at Y Combinator?\", verbose=True)"
   ]
  },
  {
   "cell_type": "code",
   "execution_count": 5,
   "id": "5101b979-175f-490e-9b32-27689fe4b789",
   "metadata": {},
   "outputs": [
    {
     "data": {
      "text/markdown": [
       "<b>\n",
       "\n",
       "The author attended the Accademia di Belle Arti di Firenze in Italy after his time at Y Combinator. He learned some useful things at Interleaf, such as the importance of product people over sales people, and that the low end eats the high end. He then moved back to Providence to continue at RISD, but dropped out after a year. He then moved to New York City and started to write a book on Lisp. He also worked as a studio assistant for Idelle Weber and tried to start a company to put art galleries online. He eventually realized that he could build online stores and started to write software to do so. He and Robert worked out of Robert's apartment in Cambridge, and wrote a shopping cart and a new site generator for stores in Lisp. They then had the idea to run the software on the server, and let users control it by clicking on links, creating a web app.\n",
       "\n",
       "The author then started a new company called Viaweb, and got $10,000 in seed funding from Idelle's husband Julian. They opened for business in January 1996, and had about 70 stores at the end of 1996 and about 500 at the end of 1997. In the summer of 1998, Yahoo bought Viaweb and</b>"
      ],
      "text/plain": [
       "<IPython.core.display.Markdown object>"
      ]
     },
     "metadata": {},
     "output_type": "display_data"
    }
   ],
   "source": [
    "display(Markdown(f\"<b>{response}</b>\"))"
   ]
  },
  {
   "cell_type": "code",
   "execution_count": null,
   "id": "a900cc9e-4427-42b5-99f2-f430e50632e5",
   "metadata": {},
   "outputs": [],
   "source": []
  }
 ],
 "metadata": {
  "kernelspec": {
   "display_name": "gpt_retrieve_venv",
   "language": "python",
   "name": "gpt_retrieve_venv"
  },
  "language_info": {
   "codemirror_mode": {
    "name": "ipython",
    "version": 3
   },
   "file_extension": ".py",
   "mimetype": "text/x-python",
   "name": "python",
   "nbconvert_exporter": "python",
   "pygments_lexer": "ipython3",
   "version": "3.8.4"
  }
 },
 "nbformat": 4,
 "nbformat_minor": 5
}
