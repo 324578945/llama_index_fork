{
 "cells": [
  {
   "cell_type": "code",
   "execution_count": null,
   "id": "b4b4387b-413e-4016-ba1e-88b3d9410a38",
   "metadata": {},
   "outputs": [],
   "source": [
    "# fetch \"New York City\" page from Wikipedia\n",
    "from pathlib import Path\n",
    "\n",
    "import requests\n",
    "response = requests.get(\n",
    "    'https://en.wikipedia.org/w/api.php',\n",
    "    params={\n",
    "        'action': 'query',\n",
    "        'format': 'json',\n",
    "        'titles': 'New York City',\n",
    "        'prop': 'extracts',\n",
    "        # 'exintro': True,\n",
    "        'explaintext': True,\n",
    "    }\n",
    ").json()\n",
    "page = next(iter(response['query']['pages'].values()))\n",
    "nyc_text = page['extract']\n",
    "\n",
    "data_path = Path('data')\n",
    "if not data_path.exists():\n",
    "    Path.mkdir(data_path)\n",
    "\n",
    "with open('data/nyc_text.txt', 'w') as fp:\n",
    "    fp.write(nyc_text)"
   ]
  },
  {
   "cell_type": "code",
   "execution_count": null,
   "id": "f1a9eb90-335c-4214-8bb6-fd1edbe3ccbd",
   "metadata": {},
   "outputs": [],
   "source": [
    "# My OpenAI Key\n",
    "import os\n",
    "os.environ['OPENAI_API_KEY'] = \"INSERT OPENAI KEY\""
   ]
  },
  {
   "cell_type": "code",
   "execution_count": 1,
   "id": "8d0b2364-4806-4656-81e7-3f6e4b910b5b",
   "metadata": {},
   "outputs": [
    {
     "name": "stderr",
     "output_type": "stream",
     "text": [
      "None of PyTorch, TensorFlow >= 2.0, or Flax have been found. Models won't be available and only tokenizers, configuration and file/data utilities can be used.\n",
      "[nltk_data] Downloading package stopwords to\n",
      "[nltk_data]     /Users/jerryliu/nltk_data...\n",
      "[nltk_data]   Package stopwords is already up-to-date!\n"
     ]
    }
   ],
   "source": [
    "from gpt_index import GPTTreeIndex, SimpleDirectoryReader"
   ]
  },
  {
   "cell_type": "code",
   "execution_count": null,
   "id": "1298bbb4-c99e-431e-93ef-eb32c0a2fc2a",
   "metadata": {
    "tags": []
   },
   "outputs": [],
   "source": [
    "documents = SimpleDirectoryReader('data').load_data()\n",
    "index = GPTTreeIndex(documents)"
   ]
  },
  {
   "cell_type": "code",
   "execution_count": 3,
   "id": "0b4fe9b6-5762-4e86-b51e-aac45d3ecdb1",
   "metadata": {},
   "outputs": [],
   "source": [
    "index.save_to_disk('index.json')"
   ]
  },
  {
   "cell_type": "code",
   "execution_count": 2,
   "id": "5eec265d-211b-4f26-b05b-5b4e7072bc6e",
   "metadata": {},
   "outputs": [],
   "source": [
    "# try loading\n",
    "new_index = GPTTreeIndex.load_from_disk('index.json')"
   ]
  },
  {
   "cell_type": "code",
   "execution_count": 5,
   "id": "68c9ebfe-b1b6-4f4e-9278-174346de8c90",
   "metadata": {
    "tags": []
   },
   "outputs": [
    {
     "name": "stdout",
     "output_type": "stream",
     "text": [
      "> Starting query: What is the name of the professional women's basketball team in New York City?\n",
      ">[Level 0] Selected node: [8]/[8]\n",
      ">[Level 0] Node [8] Summary text: New York City is home to the headquarters of the National Football League, Major League Baseball, the National Basketball Association, the National Hockey League, and Major League Soccer. It is the only city in the US to have teams in all four major North American professional sports leagues and is home to the world's largest parade, the Macy's Thanksgiving Day Parade. It is also home to the National Invitation Tournament, the National Tennis Center, the New York City Marathon, and the Belmont Stakes. The city has focused on reducing its environmental impact and carbon footprint, with mass transit use being the highest in the US, 3,715 hybrid taxis and other clean diesel vehicles, and the hosting of Climate Week NYC. The New York City drinking water supply is extracted from the protected Catskill Mountains watershed and is one of only four major cities in the US the majority of whose drinking water is pure enough not to require purification. The city is also investing $1 billion to protect the integrity of its water system and to maintain the purity of its unfiltered water supply. Newtown Creek has been designated a Superfund site for environmental clean-up and remediation.\n",
      ">[Level 1] Selected node: [5]/[5]\n",
      ">[Level 1] Node [5] Summary text: begin play in 2022.The city is represented in the National Football League by the New York Giants and the New York Jets, although both teams play their home games at MetLife Stadium in nearby East Rutherford, New Jersey, which hosted Super Bowl XLVIII in 2014.The metropolitan area is home to three National Hockey League teams. The New York Rangers, the traditional representative of the city itself and one of the league's Original Six, play at Madison Square Garden in Manhattan. The New York Islanders, traditionally representing Nassau and Suffolk Counties of Long Island, play in UBS Arena in Elmont, New York, and played in Brooklyn's Barclays Center from 2015 to 2020. The New Jersey Devils play at Prudential Center in nearby Newark, New Jersey and traditionally represent the counties of neighboring New Jersey which are coextensive with the boundaries of the New York metropolitan area and media market. The city's National Basketball Association teams are the Brooklyn Nets (previously known as the New York Nets and New Jersey Nets as they moved around the metropolitan area) and the New York Knicks, while the New York Liberty is the city's Women's National Basketball Association team. The first national college-level basketball championship, the National Invitation Tournament, was held in New York in 1938 and remains in the city. The city is well known for its links to basketball, which is played in nearly every park in the city by local youth, many of whom have gone on to play\n",
      ">[Level 1] Current answer response: \n",
      "The New York Liberty is the professional women's basketball team in New York City. \n"
     ]
    },
    {
     "data": {
      "text/plain": [
       "\"The New York Liberty is the professional women's basketball team in New York City.\""
      ]
     },
     "execution_count": 5,
     "metadata": {},
     "output_type": "execute_result"
    }
   ],
   "source": [
    "# GPT doesn't find the corresponding evidence in the leaf node, but still gives the correct answer\n",
    "# try verbose=True for more detailed outputs\n",
    "new_index.query(\"What is the name of the professional women's basketball team in New York City?\")"
   ]
  },
  {
   "cell_type": "code",
   "execution_count": null,
   "id": "4fc3f18a-0ef9-453c-acf8-7aedd784cdcf",
   "metadata": {},
   "outputs": [],
   "source": [
    "# GPT doesn't find the corresponding evidence in the leaf node, but still gives the correct answer\n",
    "# try verbose=True for more detailed outputs\n",
    "new_index.query(\"What battles took place in New York City in the American Revolution?\", verbose=True)"
   ]
  },
  {
   "cell_type": "code",
   "execution_count": 8,
   "id": "97f3ddf1-8dc2-4fb8-831f-2c06649e0955",
   "metadata": {},
   "outputs": [
    {
     "name": "stdout",
     "output_type": "stream",
     "text": [
      "> Starting query: What are the airports in New York City?\n",
      ">[Level 0] current prompt template: Some choices are given below. It is provided in a numbered list (1 to 10),where each item in the list corresponds to a summary.\n",
      "---------------------\n",
      "(1) New York City, often referred to as NYC, is the most populous city in the United States. With a 2020 population of 8,804,190 distributed over 300.46 square miles (778.2 km2), it is also the most densely populated major city in the United States. Located at the southern tip of New York State, the city is based in the Eastern Time Zone and is the geographical and demographic center of both the Northeast megalopolis and the New York metropolitan area, the largest metropolitan area in the world by urban landmass. New York City is a global cultural, financial, and media center with a significant influence on commerce, health care and life sciences, entertainment, research, technology, education, politics, tourism, dining, art, fashion, and sports.  The city traces its origins to a trading post founded on the southern tip of Manhattan Island by Dutch colonists in approximately 1624. The settlement was named New Amsterdam (Dutch: Nieuw Amsterdam) in 1626 and was chartered as a city in 1653. In 1664, New York was named in honor of the Duke of York, who would become King James II of England. The city was regained by the Dutch in July 1673 and was renamed New Orange for one year\n",
      "\n",
      "(2) New York City is located in the northeastern United States, in southeastern New York State, and is situated at the mouth of the Hudson River. It is built on the three islands of Long Island, Manhattan, and Staten Island, and is separated from New Jersey by the Hudson River. The city has a long history, beginning with the American Revolution and the trial of John Peter Zenger, which helped to establish the freedom of the press in North America. During the 19th century, the city experienced a population boom and became a world center for industry, commerce, and communication. In the 20th century, the city was transformed by commercial and residential development, European immigration, and the Great Irish Famine. The Stonewall riots of 1969 were a major event in the fight for LGBT rights, and the city suffered the bulk of the economic damage and largest loss of human life in the aftermath of the September 11, 2001 attacks. In recent years, the city has seen a drop in crime rates, the emergence of Silicon Alley, and the opening of the World Trade Center Transportation Hub. In 2020, the city became the global epicenter of the COVID-19 pandemic.\n",
      "\n",
      "(3) New York City is a densely populated city located in the U.S. state of New York. It is made up of five boroughs: Manhattan, Brooklyn, Queens, The Bronx, and Staten Island. Manhattan is the cultural, administrative, and financial center of the city, and is home to Central Park and many skyscrapers. Brooklyn is known for its cultural, social, and ethnic diversity, and is home to Citi Field, the baseball stadium of the New York Mets. Queens is the most ethnically diverse county in the United States, and is home to Citi Field, the baseball stadium of the New York Mets. The Bronx is the northernmost borough, and is home to Yankee Stadium, the baseball park of the New York Yankees. Staten Island is the most suburban in character of the five boroughs, and is connected to Brooklyn by the Verrazano-Narrows Bridge. New York City has architecturally noteworthy buildings in a wide range of styles and from distinct time periods. The city has a humid subtropical climate, with cold winters and hot, humid summers. It receives an average of 49.5 inches (1,260 mm) of precipitation annually. Hurricanes and tropical storms are rare in the New York area.\n",
      "\n",
      "(4) New York City is the most populous city in the United States, with 8,804,190 residents. It is home to a complex park system, with various lands operated by the National Park Service, the New York State Office of Parks, Recreation and Historic Preservation, and the New York City Department of Parks and Recreation. It is also home to Fort Hamilton, the U.S. military's only active duty installation within the city. In 2020, the city had an estimated population density of 29,302.37 inhabitants per square mile (11,313.71/km2). The city's population in 2020 was 30.9% White (non-Hispanic), 28.7% Hispanic or Latino, 20.2% Black or African American (non-Hispanic), 15.6% Asian, and 0.2% Native American (non-Hispanic). A total of 3.4% of the non-Hispanic population identified with more than one race. The majority of New York City residents in 2020 (5,141,538, or 58.4%) were living on Long Island, in Brooklyn, or in Queens. The city is also home to the largest Tibetan population outside China, India, and Nepal, as well as the largest Andean (Colombian\n",
      "\n",
      "(5) New York City is a global hub of business and commerce and is home to the largest foreign-born population of any metropolitan region in the world. It is home to the largest Jewish and Israeli communities outside Israel, the largest Asian Indian population in the Western Hemisphere, the largest Russian American, Italian American, and African American populations, and the largest Dominican American, Puerto Rican American, and South American and second-largest overall Hispanic population in the United States. It is also home to the largest transgender population in the world, the largest LGBT community in the United States, and the largest concentration of millionaires per capita among major U.S. cities. The city's securities industry, metonymously known as Wall Street, is the largest segment of the city's financial sector and is an important economic engine. Investment banking fees on Wall Street totaled approximately $40 billion in 2012. New York City is home to the New York Stock Exchange and the Nasdaq, representing the world's largest and second largest stock exchanges, respectively.\n",
      "\n",
      "(6) New York City is a major economic hub, with a total value of all property assessed at US$1.072 trillion for the 2017 fiscal year. It is home to some of the world's most valuable real estate, and is a major center for the American entertainment industry, with many films, television series, books, and other media being set there. It is also the digital media capital of the world, with many media conglomerates and institutions based in the city. Tourism is a vital industry for New York City, and NYC & Company represents the city's official bureau of tourism. The city is also home to numerous higher education institutions, with more than a million students enrolled in its more than 120 higher education institutions. It is also a major center for scientific research, with many biomedical research institutions and Nobel laureates having roots in local institutions.\n",
      "\n",
      "(7)  New York City is a major cultural hub, with a fast-paced lifestyle and a wide range of cultural institutions and activities. It is home to the largest public hospital system in the United States, the New York Police Department, the Fire Department of New York, and the New York Public Library, the largest public library system in the United States. It is also home to numerous performing and visual arts organizations, including the Metropolitan Opera, New York City Opera, New York Philharmonic, and New York City Ballet. The city is known for its diverse cuisine, influenced by its immigrant history, and its many street parades, which celebrate a variety of themes.\n",
      "\n",
      "(8) New York City is home to the headquarters of the National Football League, Major League Baseball, the National Basketball Association, the National Hockey League, and Major League Soccer. It is the only city in the US to have teams in all four major North American professional sports leagues and is home to the world's largest parade, the Macy's Thanksgiving Day Parade. It is also home to the National Invitation Tournament, the National Tennis Center, the New York City Marathon, and the Belmont Stakes. The city has focused on reducing its environmental impact and carbon footprint, with mass transit use being the highest in the US, 3,715 hybrid taxis and other clean diesel vehicles, and the hosting of Climate Week NYC. The New York City drinking water supply is extracted from the protected Catskill Mountains watershed and is one of only four major cities in the US the majority of whose drinking water is pure enough not to require purification. The city is also investing $1 billion to protect the integrity of its water system and to maintain the purity of its unfiltered water supply. Newtown Creek has been designated a Superfund site for environmental clean-up and remediation.\n",
      "\n",
      "(9) New York City is a metropolitan municipality with a Strong mayor–council form of government. It is divided between two U.S. district courts and has a strong Democratic Party majority. The city has an extensive transportation system, including a world-renowned subway system, public buses, ferries, taxis, and trams. It also has an extensive network of streets and highways, bridges and tunnels, and airports. Cycling is also popular in the city, with many utility cyclists, recreational cyclists, and commuters.\n",
      "\n",
      "(10) New York City is becoming increasingly popular for cyclists, with an estimated 450,000 daily bike trips in 2017 compared to 170,000 in 2005. The city has 1,333 miles (2,145 km) of bike lanes, including 126 miles (203 km) of segregated or \"protected\" bike lanes. The Sister City Program of the City of New York, Inc. was restructured and renamed New York City Global Partners in 2006, expanding its international outreach to a network of cities worldwide. There are numerous resources available to learn more about New York City, including the Museum of the City of New York, which has 145,000 NYC photographs, and the National Geographic interactive feature \"The New New York Skyline\".\n",
      "\n",
      "\n",
      "---------------------\n",
      "Using only the choices above and not prior knowledge, return the choice that is most relevant to the question: 'What are the airports in New York City?'\n",
      "Provide choice in the following format: 'ANSWER: <number>' and explain why this summary was selected in relation to the question.\n",
      "\n",
      ">[Level 0] Selected node: [8]/[8]\n",
      ">[Level 0] Node [8] Summary text: New York City is home to the headquarters of the National Football League, Major League Baseball, the National Basketball Association, the National Hockey League, and Major League Soccer. It is the only city in the US to have teams in all four major North American professional sports leagues and is home to the world's largest parade, the Macy's Thanksgiving Day Parade. It is also home to the National Invitation Tournament, the National Tennis Center, the New York City Marathon, and the Belmont Stakes. The city has focused on reducing its environmental impact and carbon footprint, with mass transit use being the highest in the US, 3,715 hybrid taxis and other clean diesel vehicles, and the hosting of Climate Week NYC. The New York City drinking water supply is extracted from the protected Catskill Mountains watershed and is one of only four major cities in the US the majority of whose drinking water is pure enough not to require purification. The city is also investing $1 billion to protect the integrity of its water system and to maintain the purity of its unfiltered water supply. Newtown Creek has been designated a Superfund site for environmental clean-up and remediation.\n",
      ">[Level 1] current prompt template: Some choices are given below. It is provided in a numbered list (1 to 10),where each item in the list corresponds to a summary.\n",
      "---------------------\n",
      "(1) is typically from north to south, marching along major avenues. The annual Macy's Thanksgiving Day Parade is the world's largest parade, beginning alongside Central Park and processing southward to the flagship Macy's Herald Square store; the parade is viewed on telecasts worldwide and draws millions of spectators in person. Other notable parades including the annual New York City St. Patrick's Day Parade in March, the LGBT Pride March in June, the Greenwich Village Halloween Parade in October, and numerous parades commemorating the independence days of many nations. Ticker-tape parades celebrating championships won by sports teams as well as other heroic accomplishments march northward along the Canyon of Heroes on Broadway from Bowling Green to City Hall Park in Lower Manhattan.   === Accent and dialect ===  The New York area is home to a distinctive regional speech pattern called the New York dialect, alternatively known as Brooklynese or New Yorkese. It has generally been considered one of the most recognizable accents within American English.The traditional New York area accent is characterized as non-rhotic, so that the sound [ɹ] does not appear at the end of a syllable or immediately before a consonant; therefore the pronunciation of the city name as \"New Yawk.\" There is no [ɹ] in words like park [pɑək] or [pɒək] (with vowel backed and diphthongized due to the low-back\n",
      "\n",
      "(2) (with vowel backed and diphthongized due to the low-back chain shift), butter [bʌɾə], or here [hiə]. In another feature called the low back chain shift, the [ɔ] vowel sound of words like talk, law, cross, chocolate, and coffee and the often homophonous [ɔr] in core and more are tensed and usually raised more than in General American English. In the most old-fashioned and extreme versions of the New York dialect, the vowel sounds of words like \"girl\" and of words like \"oil\" became a diphthong [ɜɪ]. This is often misperceived by speakers of other accents as a reversal of the er and oy sounds, so that girl is pronounced \"goil\" and oil is pronounced \"erl\"; this leads to the caricature of New Yorkers saying things like \"Joizey\" (Jersey), \"Toidy-Toid Street\" (33rd St.) and \"terlet\" (toilet). The character Archie Bunker from the 1970s television sitcom All in the Family was an example of having used this pattern of speech. The classic version of the New York City dialect is generally centered on middle and working-class New Yorkers. The influx of non-European immigrants in recent decades has led to changes in this distinctive dialect, and the traditional form of this speech pattern is no longer as prevalent among general New Yorkers as it has been in the past.   === Sports ===  New York City is\n",
      "\n",
      "(3) as it has been in the past.   === Sports ===  New York City is home to the headquarters of the National Football League, Major League Baseball, the National Basketball Association, the National Hockey League, and Major League Soccer. The New York metropolitan area hosts the most sports teams in the first four major North American professional sports leagues with nine, one more than Los Angeles, and has 11 top-level professional sports teams if Major League Soccer is included, also one more than Los Angeles. Participation in professional sports in the city predates all professional leagues. The city has played host to more than forty major professional teams in the five sports and their respective competing leagues. Four of the ten most expensive stadiums ever built worldwide (MetLife Stadium, the new Yankee Stadium, Madison Square Garden, and Citi Field) are located in the New York metropolitan area. Madison Square Garden, its predecessor, the original Yankee Stadium and Ebbets Field, are sporting venues located in New York City, the latter two having been commemorated on U.S. postage stamps. New York was the first of eight American cities to have won titles in all four major leagues (MLB, NHL, NFL and NBA), having done so following the Knicks' 1970 title. In 1972, it became the first city to win titles in five sports when the Cosmos won the NASL final. New York has been described as the \"Capital of Baseball\". There have been 35 Major League Baseball World Series and 73 pennants won by New York\n",
      "\n",
      "(4) There have been 35 Major League Baseball World Series and 73 pennants won by New York teams. It is one of only five metro areas (Los Angeles, Chicago, Baltimore–Washington, and the San Francisco Bay Area being the others) to have two baseball teams. Additionally, there have been 14 World Series in which two New York City teams played each other, known as a Subway Series and occurring most recently in 2000. No other metropolitan area has had this happen more than once (Chicago in 1906, St. Louis in 1944, and the San Francisco Bay Area in 1989). The city's two Major League Baseball teams are the New York Mets, who play at Citi Field in Queens, and the New York Yankees, who play at Yankee Stadium in the Bronx. These teams compete in six games of interleague play every regular season that has also come to be called the Subway Series. The Yankees have won a record 27 championships, while the Mets have won the World Series twice. The city also was once home to the Brooklyn Dodgers (now the Los Angeles Dodgers), who won the World Series once, and the New York Giants (now the San Francisco Giants), who won the World Series five times. Both teams moved to California in 1958. There is also one Minor League Baseball team in the city, the Mets-affiliated Brooklyn Cyclones, and the city will gain a club in the independent Atlantic League when the Staten Island FerryHawks begin play in 2022.The city is represented in the National Football League by the New\n",
      "\n",
      "(5) begin play in 2022.The city is represented in the National Football League by the New York Giants and the New York Jets, although both teams play their home games at MetLife Stadium in nearby East Rutherford, New Jersey, which hosted Super Bowl XLVIII in 2014.The metropolitan area is home to three National Hockey League teams. The New York Rangers, the traditional representative of the city itself and one of the league's Original Six, play at Madison Square Garden in Manhattan. The New York Islanders, traditionally representing Nassau and Suffolk Counties of Long Island, play in UBS Arena in Elmont, New York, and played in Brooklyn's Barclays Center from 2015 to 2020. The New Jersey Devils play at Prudential Center in nearby Newark, New Jersey and traditionally represent the counties of neighboring New Jersey which are coextensive with the boundaries of the New York metropolitan area and media market. The city's National Basketball Association teams are the Brooklyn Nets (previously known as the New York Nets and New Jersey Nets as they moved around the metropolitan area) and the New York Knicks, while the New York Liberty is the city's Women's National Basketball Association team. The first national college-level basketball championship, the National Invitation Tournament, was held in New York in 1938 and remains in the city. The city is well known for its links to basketball, which is played in nearly every park in the city by local youth, many of whom have gone on to play\n",
      "\n",
      "(6) every park in the city by local youth, many of whom have gone on to play for major college programs and in the NBA. In soccer, New York City is represented by New York City FC of Major League Soccer, who play their home games at Yankee Stadium and the New York Red Bulls, who play their home games at Red Bull Arena in nearby Harrison, New Jersey. NJ/NY Gotham FC also plays their home games in Red Bull Arena, representing the metropolitan area in the National Women's Soccer League. Historically, the city is known for the New York Cosmos, the highly successful former professional soccer team which was the American home of Pelé. A new version of the New York Cosmos was formed in 2010, and most recently played in the third-division National Independent Soccer Association before going on hiatus in January 2021. New York will be one of eleven US host cities for the 2026 FIFA World Cup. The annual United States Open Tennis Championships is one of the world's four Grand Slam tennis tournaments and is held at the National Tennis Center in Flushing Meadows-Corona Park, Queens. The New York City Marathon, which courses through all five boroughs, is the world's largest running marathon, with 51,394 finishers in 2016 and 98,247 applicants for the 2017 race. The Millrose Games is an annual track and field meet whose featured event is the Wanamaker Mile. Boxing is also a prominent part of the city's sporting scene, with events like the Amateur Boxing Golden Gloves being\n",
      "\n",
      "(7) of the city's sporting scene, with events like the Amateur Boxing Golden Gloves being held at Madison Square Garden each year. The city is also considered the host of the Belmont Stakes, the last, longest and oldest of horse racing's Triple Crown races, held just over the city's border at Belmont Park on the first or second Sunday of June. The city also hosted the 1932 U.S. Open golf tournament and the 1930 and 1939 PGA Championships, and has been host city for both events several times, most notably for nearby Winged Foot Golf Club. The Gaelic games are played in Riverdale, Bronx at Gaelic Park, home to the New York GAA, the only North American team to compete at the senior inter-county level.   == Environment ==   Environmental issues in New York City are affected by the city's size, density, abundant public transportation infrastructure, and location at the mouth of the Hudson River. For example, it is both one of the country's biggest sources of pollution, and has the lowest per-capita greenhouse gas emissions rate and electricity usage. Governors Island is planned to host a US$1 billion research and education center with the intention of making New York City the global leader in addressing the climate crisis.   === Environmental impact reduction === New York City has focused on reducing its environmental impact and carbon footprint. Mass transit use in New York City is the highest in the United States. Also, by 2010, the city had 3,715 hybrid taxis and other\n",
      "\n",
      "(8) States. Also, by 2010, the city had 3,715 hybrid taxis and other clean diesel vehicles, representing around 28% of New York's taxi fleet in service, the most of any city in North America. New York City is the host of Climate Week NYC, the largest Climate Week to take place globally and regarded as major annual climate summit. New York's high rate of public transit use, more than 200,000 daily cyclists as of 2014, and many pedestrian commuters make it the most energy-efficient major city in the United States. Walk and bicycle modes of travel account for 21% of all modes for trips in the city; nationally the rate for metro regions is about 8%. In both its 2011 and 2015 rankings, Walk Score named New York City the most walkable large city in the United States, and in 2018, Stacker ranked New York the most walkable U.S. city. Citibank sponsored the introduction of 10,000 public bicycles for the city's bike-share project in the summer of 2013. New York City's numerical \"in-season cycling indicator\" of bicycling in the city had hit an all-time high of 437 when measured in 2014.The city government was a petitioner in the landmark Massachusetts v. Environmental Protection Agency Supreme Court case forcing the EPA to regulate greenhouse gases as pollutants. The city is a leader in the construction of energy-efficient green office buildings, including the Hearst Tower among others. Mayor Bill de Blasio has committed to an 80% reduction\n",
      "\n",
      "(9) Tower among others. Mayor Bill de Blasio has committed to an 80% reduction in greenhouse gas emissions between 2014 and 2050 to reduce the city's contributions to climate change, beginning with a comprehensive \"Green Buildings\" plan.   === Water purity and availability ===  The New York City drinking water supply is extracted from the protected Catskill Mountains watershed. As a result of the watershed's integrity and undisturbed natural water filtration system, New York is one of only four major cities in the United States the majority of whose drinking water is pure enough not to require purification through water treatment plants. The city's municipal water system is the largest in the United States, moving over one billion gallons of water per day; a leak in the Delaware aqueduct results in some 20 million gallons a day being lost under the Hudson River. The Croton Watershed north of the city is undergoing construction of a $3.2 billion water purification plant to augment New York City's water supply by an estimated 290 million gallons daily, representing a greater than 20% addition to the city's current availability of water. The ongoing expansion of New York City Water Tunnel No. 3, an integral part of the New York City water supply system, is the largest capital construction project in the city's history, with segments serving Manhattan and the Bronx completed, and with segments serving Brooklyn and Queens planned for construction in 2020. In 2018, New York City announced a $1 billion investment to protect the integrity of\n",
      "\n",
      "(10) In 2018, New York City announced a $1 billion investment to protect the integrity of its water system and to maintain the purity of its unfiltered water supply.   === Air quality === According to the 2016 World Health Organization Global Urban Ambient Air Pollution Database, the annual average concentration in New York City's air of particulate matter measuring 2.5 micrometers or less (PM2.5) was 7.0 micrograms per cubic meter, or 3.0 micrograms within the recommended limit of the WHO Air Quality Guidelines for the annual mean PM2.5. The New York City Department of Health and Mental Hygiene, in partnership with Queens College, conducts the New York Community Air Survey to measure pollutants at about 150 locations.   === Environmental revitalization === Newtown Creek, a 3.5-mile (6-kilometer) a long estuary that forms part of the border between the boroughs of Brooklyn and Queens, has been designated a Superfund site for environmental clean-up and remediation of the waterway's recreational and economic resources for many communities. One of the most heavily used bodies of water in the Port of New York and New Jersey, it had been one of the most contaminated industrial sites in the country, containing years of discarded toxins, an estimated 30 million US gallons (110,000 m3) of spilled oil, including the Greenpoint oil spill, raw sewage from New York City's sewer system, and other accumulation.   == Government and\n",
      "\n",
      "\n",
      "---------------------\n",
      "Using only the choices above and not prior knowledge, return the choice that is most relevant to the question: 'What are the airports in New York City?'\n",
      "Provide choice in the following format: 'ANSWER: <number>' and explain why this summary was selected in relation to the question.\n",
      "\n",
      ">[Level 1] Could not retrieve response - no numbers present\n"
     ]
    },
    {
     "data": {
      "text/plain": [
       "'ANSWER: None of the above. None of the summaries provided discuss airports in New York City.'"
      ]
     },
     "execution_count": 8,
     "metadata": {},
     "output_type": "execute_result"
    }
   ],
   "source": [
    "# GPT doesn't find the corresponding evidence in the leaf node, but still gives the correct answer\n",
    "# try verbose=True for more detailed outputs\n",
    "new_index.query(\"What are the airports in New York City?\", verbose=True)"
   ]
  },
  {
   "cell_type": "code",
   "execution_count": null,
   "id": "53265fd4-da98-4cf9-abfb-3f76105fd2ff",
   "metadata": {},
   "outputs": [],
   "source": []
  }
 ],
 "metadata": {
  "kernelspec": {
   "display_name": "gpt_retrieve_venv",
   "language": "python",
   "name": "gpt_retrieve_venv"
  },
  "language_info": {
   "codemirror_mode": {
    "name": "ipython",
    "version": 3
   },
   "file_extension": ".py",
   "mimetype": "text/x-python",
   "name": "python",
   "nbconvert_exporter": "python",
   "pygments_lexer": "ipython3",
   "version": "3.8.4"
  }
 },
 "nbformat": 4,
 "nbformat_minor": 5
}
