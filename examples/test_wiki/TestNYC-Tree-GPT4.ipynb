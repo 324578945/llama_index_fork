{
 "cells": [
  {
   "cell_type": "code",
   "execution_count": 1,
   "id": "9080b39e",
   "metadata": {},
   "outputs": [],
   "source": [
    "import logging, sys\n",
    "# logging.basicConfig(stream=sys.stdout, level=logging.INFO)\n",
    "# logging.getLogger().addHandler(logging.StreamHandler(stream=sys.stdout))\n",
    "\n",
    "# Uncomment if you want to temporarily disable logger\n",
    "logging.disable(sys.maxsize)"
   ]
  },
  {
   "cell_type": "code",
   "execution_count": 2,
   "id": "b4b4387b-413e-4016-ba1e-88b3d9410a38",
   "metadata": {},
   "outputs": [],
   "source": [
    "# fetch \"New York City\" page from Wikipedia\n",
    "from pathlib import Path\n",
    "\n",
    "import requests\n",
    "response = requests.get(\n",
    "    'https://en.wikipedia.org/w/api.php',\n",
    "    params={\n",
    "        'action': 'query',\n",
    "        'format': 'json',\n",
    "        'titles': 'New York City',\n",
    "        'prop': 'extracts',\n",
    "        # 'exintro': True,\n",
    "        'explaintext': True,\n",
    "    }\n",
    ").json()\n",
    "page = next(iter(response['query']['pages'].values()))\n",
    "nyc_text = page['extract']\n",
    "\n",
    "data_path = Path('data')\n",
    "if not data_path.exists():\n",
    "    Path.mkdir(data_path)\n",
    "\n",
    "with open('data/nyc_text.txt', 'w') as fp:\n",
    "    fp.write(nyc_text)"
   ]
  },
  {
   "cell_type": "code",
   "execution_count": 3,
   "id": "f1a9eb90-335c-4214-8bb6-fd1edbe3ccbd",
   "metadata": {},
   "outputs": [],
   "source": [
    "# My OpenAI Key\n",
    "import os\n",
    "os.environ['OPENAI_API_KEY'] = \"\""
   ]
  },
  {
   "cell_type": "code",
   "execution_count": 8,
   "id": "8d0b2364-4806-4656-81e7-3f6e4b910b5b",
   "metadata": {},
   "outputs": [],
   "source": [
    "from gpt_index import GPTTreeIndex, SimpleDirectoryReader, LLMPredictor\n",
    "from langchain.chat_models import ChatOpenAI\n",
    "from langchain.llms import OpenAI"
   ]
  },
  {
   "cell_type": "code",
   "execution_count": 10,
   "id": "4766ac56-ac8d-4f33-b994-6901964241ea",
   "metadata": {
    "tags": []
   },
   "outputs": [],
   "source": [
    "# gpt-3 (davinci)\n",
    "llm_predictor_gpt3 = LLMPredictor(llm=OpenAI(temperature=0, model_name=\"gpt-3\"))\n",
    "\n",
    "# gpt-4\n",
    "llm_predictor_gpt4 = LLMPredictor(llm=ChatOpenAI(temperature=0, model_name=\"gpt-4\"))"
   ]
  },
  {
   "cell_type": "code",
   "execution_count": 6,
   "id": "ae00b625-403c-4c0d-89f5-2ebb392ce33d",
   "metadata": {
    "tags": []
   },
   "outputs": [
    {
     "data": {
      "text/plain": [
       "('Hello! How can I help you today?', 'hello world')"
      ]
     },
     "execution_count": 6,
     "metadata": {},
     "output_type": "execute_result"
    }
   ],
   "source": [
    "from gpt_index.prompts.prompts import SimpleInputPrompt\n",
    "\n",
    "prompt = SimpleInputPrompt(\"{query_str}\")\n",
    "llm_predictor.predict(prompt, query_str=\"hello world\")"
   ]
  },
  {
   "cell_type": "code",
   "execution_count": 7,
   "id": "523fbebe-6e79-4d7b-b400-188b711a0e8f",
   "metadata": {
    "tags": []
   },
   "outputs": [],
   "source": [
    "documents = SimpleDirectoryReader('data').load_data()"
   ]
  },
  {
   "cell_type": "code",
   "execution_count": null,
   "id": "d0e50407-1838-45d8-83af-894576245f03",
   "metadata": {
    "tags": []
   },
   "outputs": [],
   "source": [
    "index = GPTTreeIndex(documents, llm_predictor=llm_predictor_gpt4)"
   ]
  },
  {
   "cell_type": "code",
   "execution_count": 17,
   "id": "0b4fe9b6-5762-4e86-b51e-aac45d3ecdb1",
   "metadata": {},
   "outputs": [],
   "source": [
    "index.save_to_disk('index_gpt4.json')"
   ]
  },
  {
   "cell_type": "code",
   "execution_count": 4,
   "id": "5eec265d-211b-4f26-b05b-5b4e7072bc6e",
   "metadata": {},
   "outputs": [],
   "source": [
    "# try loading\n",
    "new_index = GPTTreeIndex.load_from_disk('index_gpt4.json')"
   ]
  },
  {
   "cell_type": "code",
   "execution_count": 5,
   "id": "4fc3f18a-0ef9-453c-acf8-7aedd784cdcf",
   "metadata": {},
   "outputs": [
    {
     "name": "stdout",
     "output_type": "stream",
     "text": [
      "> Starting query: What battles took place in New York City in the American Revolution?\n",
      ">[Level 0] Current response: ANSWER: 2\n",
      "\n",
      "This summary was selected because it mentions the American Revolution and the Battle of Long Island, which took place in New York City. The other summaries do not discuss the American Revolution or any battles that occurred in the city during that time.\n",
      ">[Level 0] Selected node: [2]/[2]\n",
      ">[Level 0] Node [2] Summary text: New York City has a rich history, from its beginnings as a Dutch trading post to its growth into ...\n",
      ">[Level 1] Current response: ANSWER: 1\n",
      "\n",
      "This summary was selected because it mentions the Battle of Long Island, which was the largest battle of the American Revolutionary War and took place in the modern-day borough of Brooklyn within New York City.\n",
      ">[Level 1] Selected node: [1]/[1]\n",
      ">[Level 1] Node [1] Summary text: South Carolina. Most cases were that of domestic slavery, as a New York household then commonly e...\n",
      "\u001b[36;1m\u001b[1;3m>[Level 1] Got node text: South Carolina. Most cases were that of domestic slavery, as a New York household then commonly enslaved few or several people. Others were hired out to work at labor. Slavery became integrally tie...\n",
      "\u001b[0m"
     ]
    }
   ],
   "source": [
    "response_gpt4 = new_index.query(\n",
    "    \"What battles took place in New York City in the American Revolution?\",\n",
    "    llm_predictor=llm_predictor_gpt4,\n",
    "    verbose=True\n",
    ")"
   ]
  },
  {
   "cell_type": "code",
   "execution_count": 10,
   "id": "5195f269-e362-4eb2-bf17-533d0a149bca",
   "metadata": {
    "tags": []
   },
   "outputs": [
    {
     "data": {
      "text/plain": [
       "'The Battle of Long Island took place in New York City in the American Revolution.'"
      ]
     },
     "execution_count": 10,
     "metadata": {},
     "output_type": "execute_result"
    }
   ],
   "source": [
    "str(response_gpt4)"
   ]
  },
  {
   "cell_type": "code",
   "execution_count": null,
   "id": "09fe5bd9-7571-4ff9-a548-0015c1894989",
   "metadata": {},
   "outputs": [],
   "source": [
    "response_gpt3 = new_index.query(\n",
    "    \"What battles took place in New York City in the American Revolution?\",\n",
    "    llm_predictor=llm_predictor_gpt3,\n",
    "    verbose=True\n",
    ")"
   ]
  },
  {
   "cell_type": "code",
   "execution_count": null,
   "id": "345e70dd-2b9f-4966-8ee2-36fa40e9e598",
   "metadata": {},
   "outputs": [],
   "source": [
    "str(response_gpt3)"
   ]
  },
  {
   "cell_type": "code",
   "execution_count": 6,
   "id": "461aee65-7c72-44a8-835f-32e2e5fb5935",
   "metadata": {
    "tags": []
   },
   "outputs": [
    {
     "data": {
      "text/plain": [
       "SourceNode(source_text=\"South Carolina. Most cases were that of domestic slavery, as a New York household then commonly enslaved few or several people. Others were hired out to work at labor. Slavery became integrally tied to New York's economy through the labor of slaves throughout the port, and the banking and shipping industries trading with the American South. During construction in Foley Square in the 1990s, the African Burying Ground was discovered; the cemetery included 10,000 to 20,000 of graves of colonial-era Africans, some enslaved and some free.The 1735 trial and acquittal in Manhattan of John Peter Zenger, who had been accused of seditious libel after criticizing colonial governor William Cosby, helped to establish the freedom of the press in North America. In 1754, Columbia University was founded under charter by King George II as King's College in Lower Manhattan.\\n\\n\\n=== American Revolution ===\\n\\nThe Stamp Act Congress met in New York in October 1765, as the Sons of Liberty organization emerged in the city and skirmished over the next ten years with British troops stationed there. The Battle of Long Island, the largest battle of the American Revolutionary War, was fought in August 1776 within the modern-day borough of Brooklyn. After the battle, in which the Americans were defeated, the British made the city their military and political base of operations in North America. The city was a haven for Loyalist refugees and escaped slaves who joined the British lines for freedom\", doc_id='43371b31-6570-4843-bdcb-64f3e19fe85f', extra_info=None, node_info=None, similarity=None, image=None)"
      ]
     },
     "execution_count": 6,
     "metadata": {},
     "output_type": "execute_result"
    }
   ],
   "source": [
    "response.source_nodes[0]"
   ]
  },
  {
   "cell_type": "code",
   "execution_count": 40,
   "id": "97f3ddf1-8dc2-4fb8-831f-2c06649e0955",
   "metadata": {},
   "outputs": [
    {
     "name": "stdout",
     "output_type": "stream",
     "text": [
      "INFO:gpt_index.indices.query.tree.leaf_query:> Starting query: What are the airports in New York City?\n",
      "> Starting query: What are the airports in New York City?\n",
      "> Starting query: What are the airports in New York City?\n",
      "INFO:gpt_index.indices.query.tree.leaf_query:>[Level 0] Selected node: [9]/[9]\n",
      ">[Level 0] Selected node: [9]/[9]\n",
      ">[Level 0] Selected node: [9]/[9]\n",
      "INFO:gpt_index.indices.query.tree.leaf_query:>[Level 1] Selected node: [9]/[9]\n",
      ">[Level 1] Selected node: [9]/[9]\n",
      ">[Level 1] Selected node: [9]/[9]\n",
      "INFO:gpt_index.token_counter.token_counter:> [query] Total LLM token usage: 5796 tokens\n",
      "> [query] Total LLM token usage: 5796 tokens\n",
      "> [query] Total LLM token usage: 5796 tokens\n",
      "INFO:gpt_index.token_counter.token_counter:> [query] Total embedding token usage: 0 tokens\n",
      "> [query] Total embedding token usage: 0 tokens\n",
      "> [query] Total embedding token usage: 0 tokens\n"
     ]
    }
   ],
   "source": [
    "# GPT doesn't find the corresponding evidence in the leaf node, but still gives the correct answer\n",
    "# set Logging to DEBUG for more detailed outputs\n",
    "\n",
    "response = new_index.query(\n",
    "    \"What are the airports in New York City?\",\n",
    "    llm_predictor=llm_predictor\n",
    ")"
   ]
  },
  {
   "cell_type": "code",
   "execution_count": 41,
   "id": "299073fd-74d5-4f0b-8861-a18362888371",
   "metadata": {
    "tags": []
   },
   "outputs": [
    {
     "data": {
      "text/plain": [
       "SourceNode(source_text=\"were the busiest and fourth busiest U.S. gateways for international air passengers, respectively, in 2012; as of 2011, JFK was the busiest airport for international passengers in North America.Plans have advanced to expand passenger volume at a fourth airport, Stewart International Airport near Newburgh, New York, by the Port Authority of New York and New Jersey. Plans were announced in July 2015 to entirely rebuild LaGuardia Airport in a multibillion-dollar project to replace its aging facilities. Other commercial airports in or serving the New York metropolitan area include Long Island MacArthur Airport, Trenton–Mercer Airport and Westchester County Airport. The primary general aviation airport serving the area is Teterboro Airport.\\n\\n\\n=== Ferries ===\\n\\nThe Staten Island Ferry is the world's busiest ferry route, carrying more than 23 million passengers from July 2015 through June 2016 on the 5.2-mile (8.4 km) route between Staten Island and Lower Manhattan and running 24 hours a day. Other ferry systems shuttle commuters between Manhattan and other locales within the city and the metropolitan area.\\nNYC Ferry, a NYCEDC initiative with routes planned to travel to all five boroughs, was launched in 2017, with second graders choosing the names of the ferries. Meanwhile, Seastreak ferry announced construction of a 600-passenger high-speed luxury ferry in September 2016, to shuttle riders between the Jersey Shore and Manhattan,\", doc_id='43371b31-6570-4843-bdcb-64f3e19fe85f', extra_info=None, node_info=None, similarity=None, image=None)"
      ]
     },
     "execution_count": 41,
     "metadata": {},
     "output_type": "execute_result"
    }
   ],
   "source": [
    "response.source_nodes[0]"
   ]
  },
  {
   "cell_type": "code",
   "execution_count": 42,
   "id": "66094f18-b7d6-4ee9-afcc-4622b73015ac",
   "metadata": {
    "tags": []
   },
   "outputs": [
    {
     "name": "stdout",
     "output_type": "stream",
     "text": [
      "The context information does not provide a specific list of airports in New York City. However, it mentions JFK (John F. Kennedy International Airport) and LaGuardia Airport as two of the busiest U.S. gateways for international air passengers. It also mentions plans to expand passenger volume at Stewart International Airport near Newburgh, New York. Other airports mentioned in the context serving the New York metropolitan area include Long Island MacArthur Airport, Trenton–Mercer Airport, Westchester County Airport, and Teterboro Airport (for general aviation).\n"
     ]
    }
   ],
   "source": [
    "print(str(response))"
   ]
  },
  {
   "cell_type": "code",
   "execution_count": null,
   "id": "53265fd4-da98-4cf9-abfb-3f76105fd2ff",
   "metadata": {},
   "outputs": [],
   "source": [
    "# Try using embedding query\n",
    "new_index.query(\"What are the airports in New York City?\", mode=\"embedding\")"
   ]
  }
 ],
 "metadata": {
  "kernelspec": {
   "display_name": "llama_index",
   "language": "python",
   "name": "llama_index"
  },
  "language_info": {
   "codemirror_mode": {
    "name": "ipython",
    "version": 3
   },
   "file_extension": ".py",
   "mimetype": "text/x-python",
   "name": "python",
   "nbconvert_exporter": "python",
   "pygments_lexer": "ipython3",
   "version": "3.10.10"
  }
 },
 "nbformat": 4,
 "nbformat_minor": 5
}
