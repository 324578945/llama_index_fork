{
 "cells": [
  {
   "cell_type": "markdown",
   "id": "ca9e1cd2-a0df-4d5c-b158-40a30ffc30e9",
   "metadata": {},
   "source": [
    "# LLM Predictor"
   ]
  },
  {
   "cell_type": "code",
   "execution_count": 6,
   "id": "0ec45369-c4f3-48af-861c-a2e1d231ad2f",
   "metadata": {
    "tags": []
   },
   "outputs": [],
   "source": [
    "from langchain import OpenAI\n",
    "from langchain.chat_models import ChatOpenAI\n",
    "from llama_index import LLMPredictor"
   ]
  },
  {
   "cell_type": "code",
   "execution_count": 7,
   "id": "d9561f78-f918-4f8e-aa3c-c5c774dd9e01",
   "metadata": {
    "tags": []
   },
   "outputs": [],
   "source": [
    "llm_predictor = LLMPredictor(ChatOpenAI())"
   ]
  },
  {
   "cell_type": "code",
   "execution_count": 8,
   "id": "e52d30f9-2127-4975-9906-02c8a827ba74",
   "metadata": {
    "tags": []
   },
   "outputs": [],
   "source": [
    "stream = await llm_predictor.astream('Hi, write a short story')"
   ]
  },
  {
   "cell_type": "code",
   "execution_count": 9,
   "id": "db714473-e38f-4ed6-adba-4a1f82fd3067",
   "metadata": {
    "tags": []
   },
   "outputs": [
    {
     "name": "stdout",
     "output_type": "stream",
     "text": [
      "Once upon a time, in a small village nestled deep in the mountains, there lived a young girl named Lily. She was a curious and adventurous girl, always eager to explore the world around her. One day, while wandering in the woods, she stumbled upon a magical crystal that shimmered in the sunlight. Intrigued by its beauty, she picked it up and held it in her hands.\n",
      "\n",
      "Suddenly, the crystal started to glow and emit a bright light. Lily closed her eyes and when she opened them, she found herself transported into a magical world. She was surrounded by lush green forests, sparkling rivers, and towering mountains. The sky was painted with vibrant colors, and the air was filled with the sweet fragrance of flowers.\n",
      "\n",
      "As she explored this new world, Lily met a kind and wise old wizard who told her that she had been chosen to save the kingdom from an evil sorcerer who had cast a curse on the land. The sorcerer had stolen the magical crystal, and without it, the kingdom was slowly dying.\n",
      "\n",
      "Determined to help, Lily embarked on a dangerous journey to retrieve the crystal and break the curse. She faced many challenges along the way, including fierce dragons and treacherous terrain. But with her courage and perseverance, she finally managed to defeat the sorcerer and restore the crystal to its rightful place.\n",
      "\n",
      "As she watched the kingdom come back to life, Lily realized that she had found her true calling. She decided to stay in this magical world and dedicate her life to helping others. And so, she became known as the hero of the kingdom, and her legend lived on for generations to come."
     ]
    }
   ],
   "source": [
    "for token in stream:\n",
    "    print(token, end='')"
   ]
  },
  {
   "cell_type": "code",
   "execution_count": null,
   "id": "743f5c26-d683-41b0-b8af-4df44b2a04e8",
   "metadata": {},
   "outputs": [],
   "source": []
  }
 ],
 "metadata": {
  "kernelspec": {
   "display_name": "Python 3 (ipykernel)",
   "language": "python",
   "name": "python3"
  },
  "language_info": {
   "codemirror_mode": {
    "name": "ipython",
    "version": 3
   },
   "file_extension": ".py",
   "mimetype": "text/x-python",
   "name": "python",
   "nbconvert_exporter": "python",
   "pygments_lexer": "ipython3",
   "version": "3.9.16"
  }
 },
 "nbformat": 4,
 "nbformat_minor": 5
}
