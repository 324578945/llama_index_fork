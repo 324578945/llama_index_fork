{
 "cells": [
  {
   "cell_type": "markdown",
   "id": "ca9e1cd2-a0df-4d5c-b158-40a30ffc30e9",
   "metadata": {},
   "source": [
    "# LLM Predictor"
   ]
  },
  {
   "cell_type": "code",
   "execution_count": 1,
   "id": "0ec45369-c4f3-48af-861c-a2e1d231ad2f",
   "metadata": {
    "tags": []
   },
   "outputs": [],
   "source": [
    "from langchain import OpenAI\n",
    "from llama_index import LLMPredictor"
   ]
  },
  {
   "cell_type": "code",
   "execution_count": 5,
   "id": "d9561f78-f918-4f8e-aa3c-c5c774dd9e01",
   "metadata": {
    "tags": []
   },
   "outputs": [],
   "source": [
    "llm_predictor = LLMPredictor(OpenAI())"
   ]
  },
  {
   "cell_type": "code",
   "execution_count": 10,
   "id": "e52d30f9-2127-4975-9906-02c8a827ba74",
   "metadata": {
    "tags": []
   },
   "outputs": [],
   "source": [
    "stream = await llm_predictor.astream('Hi, write a short story')"
   ]
  },
  {
   "cell_type": "code",
   "execution_count": 11,
   "id": "db714473-e38f-4ed6-adba-4a1f82fd3067",
   "metadata": {
    "tags": []
   },
   "outputs": [
    {
     "name": "stdout",
     "output_type": "stream",
     "text": [
      "\n",
      "\n",
      "Once upon a time there was a small town called Maple Grove. It was a peaceful and quiet place, filled with friendly people who were always willing to help each other out.\n",
      "\n",
      "One day, a young girl named Sarah moved to Maple Grove with her family. She was excited to make new friends and explore the town. However, when she arrived, she was taken aback by the strange behavior of the townspeople. Everyone seemed to be living in fear, and Sarah could feel a sense of unease in the air.\n",
      "\n",
      "After a few weeks of being in Maple Grove, Sarah heard a rumor that a witch was living in the woods near the town. She was intrigued and decided to investigate.\n",
      "\n",
      "So one night, Sarah ventured into the woods with a flashlight and a pocket full of courage. As she walked through the forest, she heard strange noises and saw mysterious lights in the distance. She was scared, but she kept going.\n",
      "\n",
      "Finally, she stumbled upon an old, dilapidated cabin. She crept closer and peered inside, and to her surprise, she saw an old woman stirring a pot of some strange concoction. She was the witch!\n",
      "\n",
      "Sarah was terrified, but she mustered up the courage to ask the"
     ]
    },
    {
     "name": "stderr",
     "output_type": "stream",
     "text": [
      "Exception in thread Thread-6:\n",
      "Traceback (most recent call last):\n",
      "  File \"/Users/suo/miniconda3/envs/llama/lib/python3.9/threading.py\", line 980, in _bootstrap_inner\n",
      "    self.run()\n",
      "  File \"/Users/suo/miniconda3/envs/llama/lib/python3.9/threading.py\", line 917, in run\n",
      "    self._target(*self._args, **self._kwargs)\n",
      "  File \"/Users/suo/dev/llama_index/llama_index/llms/langchain.py\", line 42, in complete\n",
      "    return CompletionResponseType(text=output_str)\n",
      "  File \"/Users/suo/miniconda3/envs/llama/lib/python3.9/typing.py\", line 687, in __call__\n",
      "    result = self.__origin__(*args, **kwargs)\n",
      "  File \"/Users/suo/miniconda3/envs/llama/lib/python3.9/typing.py\", line 344, in __call__\n",
      "    raise TypeError(f\"Cannot instantiate {self!r}\")\n",
      "TypeError: Cannot instantiate typing.Union\n"
     ]
    }
   ],
   "source": [
    "for token in stream:\n",
    "    print(token, end='')"
   ]
  },
  {
   "cell_type": "code",
   "execution_count": null,
   "id": "743f5c26-d683-41b0-b8af-4df44b2a04e8",
   "metadata": {},
   "outputs": [],
   "source": []
  }
 ],
 "metadata": {
  "kernelspec": {
   "display_name": "Python 3 (ipykernel)",
   "language": "python",
   "name": "python3"
  },
  "language_info": {
   "codemirror_mode": {
    "name": "ipython",
    "version": 3
   },
   "file_extension": ".py",
   "mimetype": "text/x-python",
   "name": "python",
   "nbconvert_exporter": "python",
   "pygments_lexer": "ipython3",
   "version": "3.9.16"
  }
 },
 "nbformat": 4,
 "nbformat_minor": 5
}
