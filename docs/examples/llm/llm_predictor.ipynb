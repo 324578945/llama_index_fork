{
 "cells": [
  {
   "cell_type": "markdown",
   "id": "ca9e1cd2-a0df-4d5c-b158-40a30ffc30e9",
   "metadata": {},
   "source": [
    "# LLM Predictor"
   ]
  },
  {
   "cell_type": "code",
   "execution_count": 12,
   "id": "0ec45369-c4f3-48af-861c-a2e1d231ad2f",
   "metadata": {
    "tags": []
   },
   "outputs": [],
   "source": [
    "from langchain import OpenAI\n",
    "from llama_index import LLMPredictor"
   ]
  },
  {
   "cell_type": "code",
   "execution_count": 13,
   "id": "d9561f78-f918-4f8e-aa3c-c5c774dd9e01",
   "metadata": {
    "tags": []
   },
   "outputs": [],
   "source": [
    "llm_predictor = LLMPredictor(OpenAI())"
   ]
  },
  {
   "cell_type": "code",
   "execution_count": 14,
   "id": "e52d30f9-2127-4975-9906-02c8a827ba74",
   "metadata": {
    "tags": []
   },
   "outputs": [],
   "source": [
    "stream = await llm_predictor.astream('Hi, write a short story')"
   ]
  },
  {
   "cell_type": "code",
   "execution_count": 15,
   "id": "db714473-e38f-4ed6-adba-4a1f82fd3067",
   "metadata": {
    "tags": []
   },
   "outputs": [
    {
     "name": "stdout",
     "output_type": "stream",
     "text": [
      "\n",
      "\n",
      "Once upon a time there was a young girl named Sarah who was always looking for adventure. She had a passion for exploration and was always looking for new places to explore. \n",
      "\n",
      "One day, Sarah decided to go on an adventure and explore the nearby forest. She packed her bag with snacks, a map, and some supplies and set off on her journey. When she arrived at the forest, her eyes widened in amazement. The trees were so tall and the air was fresh and clean. She spent the day exploring the different paths and discovering new sights.\n",
      "\n",
      "As Sarah was walking, she came across a clearing in the woods. She decided to take a break and rest for a bit. As she was sitting there, she noticed a faint light coming from the other side of the clearing. She stood up and cautiously walked towards the light. \n",
      "\n",
      "When she got closer, she realized it was a small cottage with a light inside. She knocked on the door and an old woman answered. The woman invited Sarah inside and told her the story of how she had been living in the cottage for many years. She had been alone and without family or friends, and was happy to finally have someone to talk to. \n",
      "\n",
      "Sarah and the old woman"
     ]
    },
    {
     "name": "stderr",
     "output_type": "stream",
     "text": [
      "Exception in thread Thread-7:\n",
      "Traceback (most recent call last):\n",
      "  File \"/Users/suo/miniconda3/envs/llama/lib/python3.9/threading.py\", line 980, in _bootstrap_inner\n",
      "    self.run()\n",
      "  File \"/Users/suo/miniconda3/envs/llama/lib/python3.9/threading.py\", line 917, in run\n",
      "    self._target(*self._args, **self._kwargs)\n",
      "  File \"/Users/suo/dev/llama_index/llama_index/llms/langchain.py\", line 42, in complete\n",
      "    return CompletionResponseType(text=output_str)\n",
      "  File \"/Users/suo/miniconda3/envs/llama/lib/python3.9/typing.py\", line 687, in __call__\n",
      "    result = self.__origin__(*args, **kwargs)\n",
      "  File \"/Users/suo/miniconda3/envs/llama/lib/python3.9/typing.py\", line 344, in __call__\n",
      "    raise TypeError(f\"Cannot instantiate {self!r}\")\n",
      "TypeError: Cannot instantiate typing.Union\n"
     ]
    }
   ],
   "source": [
    "for token in stream:\n",
    "    print(token, end='')"
   ]
  },
  {
   "cell_type": "code",
   "execution_count": null,
   "id": "743f5c26-d683-41b0-b8af-4df44b2a04e8",
   "metadata": {},
   "outputs": [],
   "source": []
  }
 ],
 "metadata": {
  "kernelspec": {
   "display_name": "Python 3 (ipykernel)",
   "language": "python",
   "name": "python3"
  },
  "language_info": {
   "codemirror_mode": {
    "name": "ipython",
    "version": 3
   },
   "file_extension": ".py",
   "mimetype": "text/x-python",
   "name": "python",
   "nbconvert_exporter": "python",
   "pygments_lexer": "ipython3",
   "version": "3.9.16"
  }
 },
 "nbformat": 4,
 "nbformat_minor": 5
}
