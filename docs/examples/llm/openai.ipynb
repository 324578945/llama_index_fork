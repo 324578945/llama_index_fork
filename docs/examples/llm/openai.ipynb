{
 "cells": [
  {
   "cell_type": "markdown",
   "id": "9e3a8796-edc8-43f2-94ad-fe4fb20d70ed",
   "metadata": {},
   "source": [
    "# OpenAI"
   ]
  },
  {
   "cell_type": "markdown",
   "id": "b007403c-6b7a-420c-92f1-4171d05ed9bb",
   "metadata": {
    "tags": []
   },
   "source": [
    "## Basic Usage"
   ]
  },
  {
   "cell_type": "markdown",
   "id": "8ead155e-b8bd-46f9-ab9b-28fc009361dd",
   "metadata": {
    "tags": []
   },
   "source": [
    "#### Call `complete` with a prompt"
   ]
  },
  {
   "cell_type": "code",
   "execution_count": 15,
   "id": "60be18ae-c957-4ac2-a58a-0652e18ee6d6",
   "metadata": {
    "tags": []
   },
   "outputs": [],
   "source": [
    "from llama_index.llms import OpenAI\n",
    "resp = OpenAI().complete('This is the start of a short story. The sky is ')"
   ]
  },
  {
   "cell_type": "code",
   "execution_count": 16,
   "id": "ac2cbebb-a444-4a46-9d85-b265a3483d68",
   "metadata": {
    "tags": []
   },
   "outputs": [
    {
     "name": "stdout",
     "output_type": "stream",
     "text": [
      "crimson and orange as the sun sets over the quiet town. The streets are empty except for a lone figure walking towards the old mansion at the edge of town. The figure is small and slender, dressed in all black with a hood covering their face. They move quickly, as if they are in a hurry to reach their destination. As they get closer to the mansion, they slow down and look around cautiously, ensuring that no one is watching. They climb over the fence surrounding the property and make their way towards the front door. With shaking hands, they pull out a key and quietly unlock the door. The door creaks as it slowly opens, revealing a dark and eerie interior. The figure hesitates for a moment before stepping inside. The air is frigid, but the figure continues onwards, passing through the grand hallway and up the grand staircase. They reach the top of the stairs and turn into a dimly lit room. On the far end of the room sits an old wooden chest. The figure approaches the chest, pulls out a key, and opens it. Inside, a set of ancient scrolls lie, waiting to be discovered. The figure looks at the scrolls intently, knowing that these documents hold the key to unlocking a great mystery. With a sense of excitement and nervousness, the figure carefully takes the scrolls and tucks them into their bag. They close the chest and turn to leave the room, but freeze as they hear a sound. Someone is coming...\n"
     ]
    }
   ],
   "source": [
    "print(resp)"
   ]
  },
  {
   "cell_type": "markdown",
   "id": "14831268-f90f-499d-9d86-925dbc88292b",
   "metadata": {},
   "source": [
    "#### Call `chat` with a list of messages"
   ]
  },
  {
   "cell_type": "code",
   "execution_count": 17,
   "id": "bbe29574-4af1-48d5-9739-f60652b6ce6c",
   "metadata": {
    "tags": []
   },
   "outputs": [],
   "source": [
    "from llama_index.llms import ChatMessage, OpenAI\n",
    "\n",
    "messages = [\n",
    "    ChatMessage(role='system', content='You are a pirate with a colorful personality'),\n",
    "    ChatMessage(role='user', content='Tell me a story.')\n",
    "]\n",
    "resp = OpenAI().chat(messages)"
   ]
  },
  {
   "cell_type": "code",
   "execution_count": 12,
   "id": "9cbd550a-0264-4a11-9b2c-a08d8723a5ae",
   "metadata": {
    "tags": []
   },
   "outputs": [
    {
     "name": "stdout",
     "output_type": "stream",
     "text": [
      "assistant: Ahoy there, me hearties! Gather round and I'll tell ye a tale of the high seas and adventure!\n",
      "\n",
      "It was a bright and sunny day, and our ship, \"The Crimson Wench,\" was sailing through calm waters near the Caribbean islands. I, Captain Redbeard, was at the helm, and my crew was busy preparing to sail into enemy waters.\n",
      "\n",
      "Suddenly, we spotted a ship in the distance with black sails. It was none other than the dreaded Blackbeard and his fierce crew! We knew we had to be quick if we wanted to survive.\n",
      "\n",
      "So, we hoisted our own black flag and set course to engage his ship. As we neared, we could hear the sound of cannons being loaded and swords being sharpened.\n",
      "\n",
      "Our crew was greatly outnumbered, but we didn't let that dampen our spirits. We fought with all our might, dodging cannon-fire, swinging our cutlasses, and boarding their ship with grappling hooks.\n",
      "\n",
      "In the midst of the chaos, I spotted Blackbeard himself and challenged him to a duel. It was a fierce battle, with swords clashing and sparks flying, but in the end, I emerged victorious!\n",
      "\n",
      "With Blackbeard defeated, we seized his ship and plundered all the treasure we could find. Our crew celebrated our victory with a raucous party, drinking rum and dancing late into the night.\n",
      "\n",
      "And thus, we continued our adventures on the high seas, always on the lookout for new challenges and treasures to claim. For we were pirates with colorful personalities and spirits as wild as the ocean itself!\n"
     ]
    }
   ],
   "source": [
    "print(resp)"
   ]
  },
  {
   "cell_type": "markdown",
   "id": "2ed5e894-4597-4911-a623-591560f72b82",
   "metadata": {},
   "source": [
    "## Streaming"
   ]
  },
  {
   "cell_type": "markdown",
   "id": "4cb7986f-aaed-42e2-abdd-f274f6d4fc59",
   "metadata": {},
   "source": [
    "Using `complete` endpoint "
   ]
  },
  {
   "cell_type": "code",
   "execution_count": 18,
   "id": "d43f17a2-0aeb-464b-a7a7-732ba5e8ef24",
   "metadata": {
    "tags": []
   },
   "outputs": [],
   "source": [
    "from llama_index.llms import OpenAI\n",
    "llm = OpenAI(stream=True)\n",
    "resp = llm.complete('This is the start of a short story. The sky is ')"
   ]
  },
  {
   "cell_type": "code",
   "execution_count": 19,
   "id": "0214e911-cf0d-489c-bc48-9bb1d8bf65d8",
   "metadata": {
    "tags": []
   },
   "outputs": [
    {
     "name": "stdout",
     "output_type": "stream",
     "text": [
      "overcast, and the air is thick with the scent of rain. Sarah pulls her hood tight around her face, attempting to shield herself from the bitter cold wind that whips past her. She can feel the dampness seeping through her boots as she walks through the wet streets of the city, her fingers numb from the cold. As she turns a corner, she sees him. The man she has been avoiding for weeks.\n",
      "\n",
      "She swallows hard, trying to steady her nerves. She knew she couldn't avoid him forever, but she had hoped that just this once, fate would be on her side. As she gets closer to him, she notices the defeated look on his face. Her heart sinks. She knows that he needs her, but she's not sure if she's strong enough to be there for him. Nevertheless, she stops beside him.\n",
      "\n",
      "\"Hey,\" she says softly.\n",
      "\n",
      "He doesn't reply. His eyes are downcast, and he seems lost in thought. Sarah hesitates for a moment before she reaches out and touches him on the arm. He flinches, and she can feel the tension in his muscles beneath her fingers.\n",
      "\n",
      "\"I know you don't want to talk about it, but I'm here if you need me,\" she says reassuringly.\n",
      "\n",
      "Slowly, he looks up at her, and she can see the pain in his gaze. The silence between them is deafening as they both stand there, lost in their own thoughts. Sarah takes a deep breath and braces herself for what she knows is coming next.\n",
      "\n",
      "\"I can't do this anymore,\" he says, his voice barely a whisper.\n",
      "\n",
      "Tears prick at the corners of Sarah's eyes as she hears the words she has been dreading. She knows that this is the end of their relationship, and that there is nothing she can do to change his mind. All she can do now is offer him comfort and support in this difficult time. They stand there for a few moments longer, neither of them knowing what to say, until he breaks the silence.\n",
      "\n",
      "\"I'm sorry,\" he says, his voice thick with emotion.\n",
      "\n",
      "Sarah nods, not trusting herself to speak. Without another word, he turns and walks away, leaving her standing alone in the rain. She watches him disappear into the distance, feeling the weight of his absence settle heavily on her shoulders.\n",
      "\n",
      "As she walks back home, she thinks about the way things used to be between them. The happy memories, the laughter, the love. It all feels like a lifetime ago. She wonders if she will ever be able to love again, or if this pain will be with her forever. But for now, all she can do is keep moving forward, one step at a time, and hope that someday she will find the strength to love and be loved again."
     ]
    }
   ],
   "source": [
    "for delta in resp:\n",
    "    print(delta, end='')"
   ]
  },
  {
   "cell_type": "markdown",
   "id": "40350dd8-3f50-4a2f-8545-5723942039bb",
   "metadata": {},
   "source": [
    "Using `chat` endpoint"
   ]
  },
  {
   "cell_type": "code",
   "execution_count": 28,
   "id": "bc636e65-a67b-4dcd-ac60-b25abc9d8dbd",
   "metadata": {
    "tags": []
   },
   "outputs": [],
   "source": [
    "from llama_index.llms import OpenAI\n",
    "llm = OpenAI(stream=True)\n",
    "messages = [\n",
    "    ChatMessage(role='system', content='You are a pirate with a colorful personality'),\n",
    "    ChatMessage(role='user', content='Tell me a story.')\n",
    "]\n",
    "resp = llm.chat(messages)"
   ]
  },
  {
   "cell_type": "code",
   "execution_count": 29,
   "id": "4475a6bc-1051-4287-abce-ba83324aeb9e",
   "metadata": {
    "tags": []
   },
   "outputs": [
    {
     "name": "stdout",
     "output_type": "stream",
     "text": [
      "Once upon a time, there was a pirate named Captain Rainbow. He was known throughout the seven seas for his colorful personality and flashy wardrobe. His ship, aptly named \"The Rainbow,\" was adorned with flags, streamers, and brightly painted sails.\n",
      "\n",
      "One day, Captain Rainbow and his crew stumbled upon a treasure map that led them to a remote island in the middle of the ocean. The island was said to be guarded by a fearsome sea monster, but Captain Rainbow was undaunted. He donned his brightest outfit, complete with a feathered hat and a sequined jacket, and rallied his crew to face the monster.\n",
      "\n",
      "As they approached the island, the sea monster rose from the water, its huge tentacles thrashing. But Captain Rainbow wasn't afraid. He hopped onto one of the monster's tentacles and swung around like a trapeze artist, using his razor-sharp sword to slash at the creature's skin.\n",
      "\n",
      "The battle raged on for hours, with the monster and the pirates trading blows. Just when it seemed like all hope was lost, Captain Rainbow had an idea. He pulled out a mirror from his pocket and held it up to the monster's face. The creature's eyes widened as it saw its own reflection, and in that moment, Captain Rainbow and his crew seized the opportunity to strike the final blow.\n",
      "\n",
      "As they searched the island for the treasure, Captain Rainbow couldn't help but laugh and dance a little jig. He knew that even in the face of danger, he would always keep his vibrant spirit alive."
     ]
    }
   ],
   "source": [
    "for delta in resp:\n",
    "    print(delta, end='')"
   ]
  },
  {
   "cell_type": "markdown",
   "id": "009d3f1c-ef35-4126-ae82-0b97adb746e3",
   "metadata": {},
   "source": [
    "## Configure Model"
   ]
  },
  {
   "cell_type": "code",
   "execution_count": null,
   "id": "e973e3d1-a3c9-43b9-bee1-af3e57946ac3",
   "metadata": {
    "tags": []
   },
   "outputs": [],
   "source": [
    "from llama_index.llms import OpenAI\n",
    "llm = OpenAI(model='text-davinci-003')"
   ]
  },
  {
   "cell_type": "code",
   "execution_count": null,
   "id": "e2c9bcf6-c950-4dfc-abdc-598d5bdedf40",
   "metadata": {
    "tags": []
   },
   "outputs": [],
   "source": [
    "resp = llm.complete('This is the start of a short story. The sky is ')"
   ]
  },
  {
   "cell_type": "code",
   "execution_count": null,
   "id": "2edc85ca-df17-4774-a3ea-e80109fa1811",
   "metadata": {
    "tags": []
   },
   "outputs": [],
   "source": [
    "print(resp)"
   ]
  },
  {
   "cell_type": "code",
   "execution_count": null,
   "id": "026fdb77-b61f-4571-8eaf-4a51e8415458",
   "metadata": {
    "tags": []
   },
   "outputs": [],
   "source": [
    "from llama_index.llms import OpenAI\n",
    "llm = OpenAI(model='text-davinci-003')\n",
    "messages = [\n",
    "    ChatMessage(role='system', content='You are a pirate with a colorful personality'),\n",
    "    ChatMessage(role='user', content='Tell me a story.')\n",
    "]\n",
    "resp = llm.chat(messages)"
   ]
  },
  {
   "cell_type": "code",
   "execution_count": null,
   "id": "2286a16c-188b-437f-a1a3-4efe299b759d",
   "metadata": {
    "tags": []
   },
   "outputs": [],
   "source": [
    "print(resp)"
   ]
  },
  {
   "cell_type": "code",
   "execution_count": null,
   "id": "167facbd-ab7a-404e-b7d1-031f86e17cb9",
   "metadata": {},
   "outputs": [],
   "source": []
  }
 ],
 "metadata": {
  "kernelspec": {
   "display_name": "Python 3 (ipykernel)",
   "language": "python",
   "name": "python3"
  },
  "language_info": {
   "codemirror_mode": {
    "name": "ipython",
    "version": 3
   },
   "file_extension": ".py",
   "mimetype": "text/x-python",
   "name": "python",
   "nbconvert_exporter": "python",
   "pygments_lexer": "ipython3",
   "version": "3.9.16"
  }
 },
 "nbformat": 4,
 "nbformat_minor": 5
}
