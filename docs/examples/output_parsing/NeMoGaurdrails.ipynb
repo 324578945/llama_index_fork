{
 "cells": [
  {
   "attachments": {},
   "cell_type": "markdown",
   "id": "561ff929",
   "metadata": {},
   "source": [
    "# [beta] NeMo Gaurdrails - Output Parser\n",
    "\n",
    "This notebook walks through using the NeMo output parser from Nvidia, which can be used to check for hallucinations and contradictions. \n",
    "\n",
    "Note that this is currently a beta feature, and is subject to changes from the NeMo library.\n",
    "\n",
    "Installation instructions and more info can be found [on the NeMo github page](https://github.com/NVIDIA/NeMo-Guardrails)."
   ]
  },
  {
   "cell_type": "code",
   "execution_count": null,
   "id": "704d6c3d",
   "metadata": {},
   "outputs": [],
   "source": [
    "! apt-get update && apt-get install -y libsndfile1 ffmpe\n",
    "! pip install Cython\n",
    "! pip install nemo_toolkit['all']\n",
    "! pip install --upgrade langchain"
   ]
  },
  {
   "cell_type": "code",
   "execution_count": 1,
   "id": "cfdda718",
   "metadata": {},
   "outputs": [],
   "source": [
    "# enable async inside jupyter\n",
    "import nest_asyncio\n",
    "nest_asyncio.apply()"
   ]
  },
  {
   "cell_type": "code",
   "execution_count": 2,
   "id": "0d3f3fdc",
   "metadata": {},
   "outputs": [
    {
     "name": "stderr",
     "output_type": "stream",
     "text": [
      "/home/loganm/miniconda3/envs/gpt_index/lib/python3.11/site-packages/tqdm/auto.py:21: TqdmWarning: IProgress not found. Please update jupyter and ipywidgets. See https://ipywidgets.readthedocs.io/en/stable/user_install.html\n",
      "  from .autonotebook import tqdm as notebook_tqdm\n"
     ]
    }
   ],
   "source": [
    "from langchain.llms import OpenAI\n",
    "\n",
    "from llama_index import (\n",
    "    GPTVectorStoreIndex,\n",
    "    SimpleDirectoryReader,\n",
    "    ServiceContext,\n",
    ")\n",
    "from llama_index.output_parsers.nemo import NeMoGaurdrailsOutputParser\n",
    "from llama_index.llm_predictor import StructuredLLMPredictor\n",
    "from llama_index.prompts.prompts import QuestionAnswerPrompt, RefinePrompt\n",
    "from llama_index.prompts.default_prompts import (\n",
    "    DEFAULT_TEXT_QA_PROMPT_TMPL,\n",
    "    DEFAULT_REFINE_PROMPT_TMPL,\n",
    ")"
   ]
  },
  {
   "cell_type": "code",
   "execution_count": 3,
   "id": "b88ed402",
   "metadata": {},
   "outputs": [],
   "source": [
    "documents = SimpleDirectoryReader(\"../data/paul_graham\").load_data()"
   ]
  },
  {
   "cell_type": "code",
   "execution_count": 4,
   "id": "89fb9fff",
   "metadata": {},
   "outputs": [],
   "source": [
    "# setup llms\n",
    "llm = OpenAI()\n",
    "llm_predictor = StructuredLLMPredictor(llm=llm)\n",
    "\n",
    "service_context = ServiceContext.from_defaults(\n",
    "    llm_predictor=llm_predictor, chunk_size_limit=512\n",
    ")"
   ]
  },
  {
   "attachments": {},
   "cell_type": "markdown",
   "id": "c95d64d3",
   "metadata": {},
   "source": [
    "The NeMo gaurdrails parser provides a few options, mainly for checking for hallucinations and if the context facts support the answer.\n",
    "\n",
    "Note that only the `OpenAI` LLM class is supported by NeMo currently."
   ]
  },
  {
   "cell_type": "code",
   "execution_count": 5,
   "id": "a05cdc88",
   "metadata": {},
   "outputs": [],
   "source": [
    "# nemo setup\n",
    "nemo_parser = NeMoGaurdrailsOutputParser(\n",
    "    llm=llm,\n",
    "    check_hallucination=True,\n",
    "    check_facts=True,\n",
    "    remove_failed_facts=False\n",
    ")\n",
    "qa_prompt = QuestionAnswerPrompt(DEFAULT_TEXT_QA_PROMPT_TMPL, output_parser=nemo_parser)\n",
    "refine_prompt = RefinePrompt(DEFAULT_REFINE_PROMPT_TMPL, output_parser=nemo_parser)"
   ]
  },
  {
   "cell_type": "code",
   "execution_count": 6,
   "id": "298f0732",
   "metadata": {},
   "outputs": [],
   "source": [
    "index = GPTVectorStoreIndex.from_documents(documents, service_context=service_context)"
   ]
  },
  {
   "cell_type": "code",
   "execution_count": 7,
   "id": "4bcea466",
   "metadata": {},
   "outputs": [],
   "source": [
    "query_engine = index.as_query_engine(\n",
    "    text_qa_template=qa_prompt, refine_template=refine_prompt\n",
    ")"
   ]
  },
  {
   "cell_type": "code",
   "execution_count": 9,
   "id": "c0706127",
   "metadata": {},
   "outputs": [
    {
     "name": "stdout",
     "output_type": "stream",
     "text": [
      "\n",
      "\n",
      "\u001b[1m> Entering new LLMChain chain...\u001b[0m\n",
      "\n",
      "\u001b[1m> Finished chain.\u001b[0m\n",
      "\n",
      "Interleaf was a small software company founded by three college friends in the late 1990s. They were ambitious and wanted to make a big impact in the software industry, so they decided to focus on creating a revolutionary new product. \n",
      "\n",
      "They worked hard for months, and eventually their hard work paid off: they created a powerful document editing and publishing software. It was one of the first of its kind and was quickly adopted by businesses and individuals alike. \n",
      "\n",
      "The company grew quickly and soon they had offices around the world. They had a team of dedicated engineers and programmers working to constantly improve their software. They also had a team of product managers, marketers, and customer service representatives to help spread the word and ensure customer satisfaction. \n",
      "\n",
      "Interleaf became a major player in the software industry and their software was used by millions of people around the world. They had a long list of features, but they were always looking to innovate and stay ahead of the competition. \n",
      "\n",
      "Unfortunately, their success was short lived. In the early 2000s, the competition began to catch up and new technologies emerged that made Interleaf's software obsolete. The company eventually had to close its doors, but the legacy of their software lives on.\n",
      "This response may have been hallucincated, and should be validated and fact-checked by an expert.\n"
     ]
    }
   ],
   "source": [
    "response = query_engine.query(\"Make up a fake story about Interleaf.\")\n",
    "print(response)"
   ]
  },
  {
   "cell_type": "code",
   "execution_count": null,
   "id": "164a7d88",
   "metadata": {},
   "outputs": [],
   "source": []
  }
 ],
 "metadata": {
  "kernelspec": {
   "display_name": "gpt_index",
   "language": "python",
   "name": "gpt_index"
  },
  "language_info": {
   "codemirror_mode": {
    "name": "ipython",
    "version": 3
   },
   "file_extension": ".py",
   "mimetype": "text/x-python",
   "name": "python",
   "nbconvert_exporter": "python",
   "pygments_lexer": "ipython3",
   "version": "3.11.0"
  }
 },
 "nbformat": 4,
 "nbformat_minor": 5
}
